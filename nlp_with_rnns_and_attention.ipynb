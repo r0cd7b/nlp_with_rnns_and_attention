{
 "cells": [
  {
   "cell_type": "markdown",
   "id": "818dfdd9-e831-4b2d-a3fa-0e2f9e1c09ed",
   "metadata": {},
   "source": [
    "# RNN과 어텐션을 사용한 자연어 처리"
   ]
  },
  {
   "cell_type": "markdown",
   "id": "2de7dbfd-3f08-4880-9c2b-d322a0c48cf2",
   "metadata": {},
   "source": [
    "먼저 몇 개의 모듈을 임포트한다. 맷플롯립 그림을 저장하는 함수를 준비한다."
   ]
  },
  {
   "cell_type": "code",
   "execution_count": 1,
   "id": "119fcb3d-8dd5-4779-9a8c-2caed0738f0e",
   "metadata": {
    "scrolled": true
   },
   "outputs": [],
   "source": [
    "# 공통 모듈 임포트\n",
    "import os\n",
    "import matplotlib.pyplot as plt\n",
    "\n",
    "# 그림을 저장할 위치\n",
    "PROJECT_ROOT_DIR = '.'\n",
    "IMAGES_PATH = os.path.join(PROJECT_ROOT_DIR, 'images')\n",
    "os.makedirs(IMAGES_PATH, exist_ok=True)\n",
    "\n",
    "\n",
    "def save_fig(fig_id, tight_layout=True, fig_extension='png', resolution=300):\n",
    "    path = os.path.join(IMAGES_PATH, fig_id + '.' + fig_extension)\n",
    "    print(f'그림 저장 {fig_id}')\n",
    "    if tight_layout:\n",
    "        plt.tight_layout()\n",
    "    plt.savefig(path, dpi=resolution, format=fig_extension)"
   ]
  },
  {
   "cell_type": "markdown",
   "id": "840e8fa0-8d32-4ffd-a697-8e805aa2ca32",
   "metadata": {
    "tags": []
   },
   "source": [
    "## Char-RNN을 사용해 셰익스피어 문제 생성하기"
   ]
  },
  {
   "cell_type": "markdown",
   "id": "0fd897f3-c480-4c36-a094-fa2b7d223213",
   "metadata": {},
   "source": [
    "예를 들어, 0~14까지 시퀀스를 2개씩 이동하면서 길이가 5인 윈도우로 나누어 본다(가령,`[0, 1, 2, 3, 4]`, `[2, 3, 4, 5, 6]`, 등). 그다음 이를 섞고 입력(처음 네 개의 스텝)과 타깃(마지막 네 개의 스텝)으로 나눈다(즉, `[2, 3, 4, 5, 6]`를 `[[2, 3, 4, 5], [3, 4, 5, 6]]`로 나눈다). 그다음 입력/타깃 쌍 세 개로 구성된 배치를 만든다:"
   ]
  },
  {
   "cell_type": "code",
   "execution_count": 2,
   "id": "363dbd9f-18de-4b18-9e19-3e3bc3504a53",
   "metadata": {
    "scrolled": true,
    "tags": []
   },
   "outputs": [
    {
     "name": "stdout",
     "output_type": "stream",
     "text": [
      "____________________ Batch 0\n",
      "X_batch\n",
      "[[ 4  5  6  7]\n",
      " [ 2  3  4  5]\n",
      " [10 11 12 13]]\n",
      "=====\n",
      "Y_batch\n",
      "[[ 5  6  7  8]\n",
      " [ 3  4  5  6]\n",
      " [11 12 13 14]]\n",
      "____________________ Batch 1\n",
      "X_batch\n",
      "[[ 6  7  8  9]\n",
      " [ 0  1  2  3]\n",
      " [ 8  9 10 11]]\n",
      "=====\n",
      "Y_batch\n",
      "[[ 7  8  9 10]\n",
      " [ 1  2  3  4]\n",
      " [ 9 10 11 12]]\n"
     ]
    }
   ],
   "source": [
    "import tensorflow as tf\n",
    "\n",
    "n_steps = 5\n",
    "dataset = tf.data.Dataset.from_tensor_slices(tf.range(15))\n",
    "dataset = dataset.window(n_steps, 2, drop_remainder=True)\n",
    "dataset = dataset.flat_map(lambda window: window.batch(n_steps))\n",
    "dataset = dataset.shuffle(10).map(lambda window: (window[:-1], window[1:]))\n",
    "dataset = dataset.batch(3).prefetch(tf.data.AUTOTUNE)\n",
    "for index, (X_batch, Y_batch) in enumerate(dataset):\n",
    "    print(f'{\"_\" * 20} Batch {index}\\nX_batch\\n{X_batch.numpy()}\\n{\"=\" * 5}\\nY_batch\\n{Y_batch.numpy()}')"
   ]
  },
  {
   "cell_type": "markdown",
   "id": "2ea6087a-39f5-4e7c-b415-d0db9798eac5",
   "metadata": {},
   "source": [
    "### 훈련 데이터셋 만들기"
   ]
  },
  {
   "cell_type": "code",
   "execution_count": 3,
   "id": "091c6705-e0c6-4003-a516-8108a01fed76",
   "metadata": {
    "scrolled": true
   },
   "outputs": [],
   "source": [
    "from tensorflow import keras\n",
    "\n",
    "shakespeare_url = 'https://raw.githubusercontent.com/karpathy/char-rnn/master/data/tinyshakespeare/input.txt'\n",
    "filepath = keras.utils.get_file('shakespeare.txt', shakespeare_url)\n",
    "with open(filepath) as f:\n",
    "    shakespeare_text = f.read()"
   ]
  },
  {
   "cell_type": "code",
   "execution_count": 4,
   "id": "4866e867-017f-43d4-a06e-6a0cc5430043",
   "metadata": {
    "scrolled": true,
    "tags": []
   },
   "outputs": [
    {
     "name": "stdout",
     "output_type": "stream",
     "text": [
      "First Citizen:\n",
      "Before we proceed any further, hear me speak.\n",
      "\n",
      "All:\n",
      "Speak, speak.\n",
      "\n",
      "First Citizen:\n",
      "You are all resolved rather to die than to famish?\n",
      "\n"
     ]
    }
   ],
   "source": [
    "print(shakespeare_text[:148])"
   ]
  },
  {
   "cell_type": "code",
   "execution_count": 5,
   "id": "8f4c97fd-e9ec-40b0-ab76-e411f66ac90e",
   "metadata": {
    "scrolled": true
   },
   "outputs": [
    {
     "data": {
      "text/plain": [
       "\"\\n !$&',-.3:;?abcdefghijklmnopqrstuvwxyz\""
      ]
     },
     "execution_count": 5,
     "metadata": {},
     "output_type": "execute_result"
    }
   ],
   "source": [
    "''.join(sorted(set(shakespeare_text.lower())))"
   ]
  },
  {
   "cell_type": "code",
   "execution_count": 6,
   "id": "8d7591a9-eeab-4975-a40a-ad41fb914627",
   "metadata": {
    "scrolled": true
   },
   "outputs": [],
   "source": [
    "tokenizer = keras.preprocessing.text.Tokenizer(char_level=True)\n",
    "tokenizer.fit_on_texts(shakespeare_text)"
   ]
  },
  {
   "cell_type": "code",
   "execution_count": 7,
   "id": "74645fc5-22b8-4dbc-982c-cd8a226f1bfe",
   "metadata": {
    "scrolled": true
   },
   "outputs": [
    {
     "data": {
      "text/plain": [
       "[[20, 6, 9, 8, 3]]"
      ]
     },
     "execution_count": 7,
     "metadata": {},
     "output_type": "execute_result"
    }
   ],
   "source": [
    "tokenizer.texts_to_sequences(['First'])"
   ]
  },
  {
   "cell_type": "code",
   "execution_count": 8,
   "id": "5cd5fbff-f1b2-4cfa-9131-2578ebedce6a",
   "metadata": {
    "scrolled": true,
    "tags": []
   },
   "outputs": [
    {
     "data": {
      "text/plain": [
       "['f i r s t']"
      ]
     },
     "execution_count": 8,
     "metadata": {},
     "output_type": "execute_result"
    }
   ],
   "source": [
    "tokenizer.sequences_to_texts([[20, 6, 9, 8, 3]])"
   ]
  },
  {
   "cell_type": "code",
   "execution_count": 9,
   "id": "9212b24a-4978-474e-ae50-3fecb38c003c",
   "metadata": {
    "scrolled": true,
    "tags": []
   },
   "outputs": [],
   "source": [
    "max_id = len(tokenizer.word_index)  # 고유한 문자 개수\n",
    "dataset_size = tokenizer.document_count  # 전체 문자 개수"
   ]
  },
  {
   "cell_type": "code",
   "execution_count": 10,
   "id": "5aa3f3b4-83d1-4216-a271-f1bbbe2ed67a",
   "metadata": {
    "scrolled": true,
    "tags": []
   },
   "outputs": [],
   "source": [
    "import numpy as np\n",
    "\n",
    "[encoded] = np.array(tokenizer.texts_to_sequences([shakespeare_text])) - 1"
   ]
  },
  {
   "cell_type": "markdown",
   "id": "d407efb6-37c9-4815-a4b7-4ed9e12a1dbf",
   "metadata": {},
   "source": [
    "### 순차 데이터셋을 나누는 방법"
   ]
  },
  {
   "cell_type": "code",
   "execution_count": 11,
   "id": "319cfaeb-6e85-4df6-b81e-d3eeb3a605ee",
   "metadata": {
    "scrolled": true,
    "tags": []
   },
   "outputs": [],
   "source": [
    "train_size = dataset_size * 90 // 100\n",
    "dataset = tf.data.Dataset.from_tensor_slices(encoded[:train_size])"
   ]
  },
  {
   "cell_type": "markdown",
   "id": "9a5ebf77-da20-4798-b3b5-7ddccc7ca003",
   "metadata": {
    "tags": []
   },
   "source": [
    "### 순차 데이터를 윈도 여러 개로 자르기"
   ]
  },
  {
   "cell_type": "code",
   "execution_count": 12,
   "id": "6746eaac-5470-44d4-9e78-1a8404c0941b",
   "metadata": {
    "scrolled": true
   },
   "outputs": [],
   "source": [
    "n_steps = 100\n",
    "window_length = n_steps + 1  # 타깃 = 한 글자 앞선 입력\n",
    "dataset = dataset.window(window_length, 1, drop_remainder=True)"
   ]
  },
  {
   "cell_type": "code",
   "execution_count": 13,
   "id": "77585957-6358-4b08-9f7e-395846f81e57",
   "metadata": {
    "scrolled": true
   },
   "outputs": [],
   "source": [
    "dataset = dataset.flat_map(lambda window: window.batch(window_length))"
   ]
  },
  {
   "cell_type": "code",
   "execution_count": 14,
   "id": "f0d6199d-edad-4c23-8526-62b4ca04081b",
   "metadata": {
    "scrolled": true
   },
   "outputs": [],
   "source": [
    "batch_size = 32\n",
    "dataset = dataset.shuffle(10000).batch(batch_size)\n",
    "dataset = dataset.map(lambda windows: (windows[:, :-1], windows[:, 1:]))"
   ]
  },
  {
   "cell_type": "code",
   "execution_count": 15,
   "id": "7d7e4415-9e1f-484e-902d-7111c03271d2",
   "metadata": {
    "scrolled": true
   },
   "outputs": [],
   "source": [
    "dataset = dataset.map(lambda X_batch, Y_batch: (tf.one_hot(X_batch, max_id), Y_batch))"
   ]
  },
  {
   "cell_type": "code",
   "execution_count": 16,
   "id": "48711eb7-5216-4ad7-921c-6b35c5ef0b0c",
   "metadata": {
    "scrolled": true,
    "tags": []
   },
   "outputs": [],
   "source": [
    "dataset = dataset.prefetch(tf.data.AUTOTUNE)"
   ]
  },
  {
   "cell_type": "code",
   "execution_count": 17,
   "id": "1be07385-d55f-4235-a659-80fa840a9ea4",
   "metadata": {
    "scrolled": true,
    "tags": []
   },
   "outputs": [
    {
     "name": "stdout",
     "output_type": "stream",
     "text": [
      "(32, 100, 39) (32, 100)\n"
     ]
    }
   ],
   "source": [
    "for X_batch, Y_batch in dataset.take(1):\n",
    "    print(X_batch.shape, Y_batch.shape)"
   ]
  },
  {
   "cell_type": "markdown",
   "id": "45438362-ed83-4fcd-8eeb-58fb6e79d9ef",
   "metadata": {},
   "source": [
    "### Char-RNN 모델 만들고 훈련하기"
   ]
  },
  {
   "cell_type": "markdown",
   "id": "34525f55-9149-4a84-a31c-e53bf0ddf82a",
   "metadata": {},
   "source": [
    "**경고**: 다음 코드는 하드웨어에 따라 실행하는데 24시간이 걸릴 수 있다. GPU를 사용하면 1~2시간 정도 걸릴 수 있다."
   ]
  },
  {
   "cell_type": "markdown",
   "id": "63545788-9fbf-4fa8-b6f3-07b547386878",
   "metadata": {},
   "source": [
    "**노트**: `GRU` 클래스는 다음 매개변수에서 기본값을 사용할 때에만 GPU를 사용한다: `activation`, `recurrent_activation`, `recurrent_dropout`, `unroll`, `use_bias` `reset_after`. 이 때문에 `recurrent_dropout=0.2`를 주석 처리했다."
   ]
  },
  {
   "cell_type": "code",
   "execution_count": 18,
   "id": "b9c105da-327f-4b26-a87e-3fa06a88add9",
   "metadata": {
    "scrolled": true,
    "tags": []
   },
   "outputs": [
    {
     "name": "stdout",
     "output_type": "stream",
     "text": [
      "Epoch 1/10\n",
      "1/1 [==============================] - 13s 13s/step - loss: 3.6614\n",
      "Epoch 2/10\n",
      "1/1 [==============================] - 1s 1s/step - loss: 3.6446\n",
      "Epoch 3/10\n",
      "1/1 [==============================] - 1s 1s/step - loss: 3.6266\n",
      "Epoch 4/10\n",
      "1/1 [==============================] - 1s 1s/step - loss: 3.6045\n",
      "Epoch 5/10\n",
      "1/1 [==============================] - 1s 1s/step - loss: 3.5783\n",
      "Epoch 6/10\n",
      "1/1 [==============================] - 1s 1s/step - loss: 3.5493\n",
      "Epoch 7/10\n",
      "1/1 [==============================] - 1s 1s/step - loss: 3.5119\n",
      "Epoch 8/10\n",
      "1/1 [==============================] - 1s 1s/step - loss: 3.4662\n",
      "Epoch 9/10\n",
      "1/1 [==============================] - 1s 1s/step - loss: 3.3983\n",
      "Epoch 10/10\n",
      "1/1 [==============================] - 1s 1s/step - loss: 3.3220\n"
     ]
    }
   ],
   "source": [
    "model = keras.models.Sequential(\n",
    "    [\n",
    "        keras.layers.GRU(128, dropout=0.2, return_sequences=True, input_shape=[None, max_id]),  # recurrent_dropout=0.2\n",
    "        keras.layers.GRU(128, dropout=0.2, return_sequences=True),  # recurrent_dropout=0.2\n",
    "        keras.layers.TimeDistributed(keras.layers.Dense(max_id, 'softmax'))\n",
    "    ]\n",
    ")\n",
    "model.compile('adam', 'sparse_categorical_crossentropy')\n",
    "# history = model.fit(dataset, epochs=10)\n",
    "history = model.fit(dataset.take(1), epochs=10)"
   ]
  },
  {
   "cell_type": "markdown",
   "id": "3e065685-b6cd-4a40-945d-a43be9df65e7",
   "metadata": {},
   "source": [
    "### Char-RNN 모델 사용하기"
   ]
  },
  {
   "cell_type": "code",
   "execution_count": 19,
   "id": "92db38bc-5e31-487f-b7a0-a7965cc6732e",
   "metadata": {
    "scrolled": true
   },
   "outputs": [],
   "source": [
    "def preprocess(texts):\n",
    "    X = np.array(tokenizer.texts_to_sequences(texts)) - 1\n",
    "    return tf.one_hot(X, max_id)"
   ]
  },
  {
   "cell_type": "code",
   "execution_count": 20,
   "id": "2f850de9-9857-48dd-a58d-b38c210509bd",
   "metadata": {
    "scrolled": true
   },
   "outputs": [
    {
     "data": {
      "text/plain": [
       "' '"
      ]
     },
     "execution_count": 20,
     "metadata": {},
     "output_type": "execute_result"
    }
   ],
   "source": [
    "X_new = preprocess(['How are yo'])\n",
    "Y_pred = np.argmax(model(X_new), -1)\n",
    "tokenizer.sequences_to_texts(Y_pred + 1)[0][-1]  # 1st sentence, last char"
   ]
  },
  {
   "cell_type": "markdown",
   "id": "a3205dcb-76d5-475e-921f-d6f1fc6ce18c",
   "metadata": {},
   "source": [
    "### 가짜 셰익스피어 텍스트를 생성하기"
   ]
  },
  {
   "cell_type": "code",
   "execution_count": 21,
   "id": "075cab5a-19d6-44b7-bd4a-30780e3edc62",
   "metadata": {
    "scrolled": true,
    "tags": []
   },
   "outputs": [
    {
     "data": {
      "text/plain": [
       "array([[1, 1, 0, 1, 1, 1, 1, 1, 1, 0, 1, 1, 0, 0, 0, 0, 1, 0, 1, 0, 0, 0,\n",
       "        1, 1, 0, 1, 0, 1, 1, 1, 0, 1, 0, 1, 0, 2, 1, 0, 0, 1]],\n",
       "      dtype=int64)"
      ]
     },
     "execution_count": 21,
     "metadata": {},
     "output_type": "execute_result"
    }
   ],
   "source": [
    "tf.random.categorical([[np.log(0.5), np.log(0.4), np.log(0.1)]], 40).numpy()"
   ]
  },
  {
   "cell_type": "code",
   "execution_count": 22,
   "id": "b7357390-ed83-44f6-88a4-c93089165cac",
   "metadata": {
    "scrolled": true,
    "tags": []
   },
   "outputs": [],
   "source": [
    "def next_char(text, temperature=1):\n",
    "    X_new = preprocess([text])\n",
    "    y_proba = model(X_new)[0, -1:, :]\n",
    "    rescaled_logits = tf.math.log(y_proba) / temperature\n",
    "    char_id = tf.random.categorical(rescaled_logits, 1) + 1\n",
    "    return tokenizer.sequences_to_texts(char_id.numpy())[0]"
   ]
  },
  {
   "cell_type": "code",
   "execution_count": 23,
   "id": "761ca93d-3959-424a-9fe2-f8929ab4f799",
   "metadata": {
    "scrolled": true
   },
   "outputs": [
    {
     "data": {
      "text/plain": [
       "'n'"
      ]
     },
     "execution_count": 23,
     "metadata": {},
     "output_type": "execute_result"
    }
   ],
   "source": [
    "next_char('How are yo')"
   ]
  },
  {
   "cell_type": "code",
   "execution_count": 24,
   "id": "5274a4ee-be22-4949-8752-16ec8ab9e46c",
   "metadata": {
    "scrolled": true
   },
   "outputs": [],
   "source": [
    "def complete_text(text, n_chars=50, temperature=1):\n",
    "    for _ in range(n_chars):\n",
    "        text += next_char(text, temperature)\n",
    "    return text"
   ]
  },
  {
   "cell_type": "code",
   "execution_count": 25,
   "id": "9586bbfc-475f-45ca-8578-4796064fe97c",
   "metadata": {
    "scrolled": true
   },
   "outputs": [
    {
     "name": "stdout",
     "output_type": "stream",
     "text": [
      "tnekh e                                            \n"
     ]
    }
   ],
   "source": [
    "print(complete_text('t', temperature=0.2))"
   ]
  },
  {
   "cell_type": "code",
   "execution_count": 26,
   "id": "6ab2af9f-db86-427c-9d58-c8b72476bc00",
   "metadata": {
    "scrolled": true
   },
   "outputs": [
    {
     "name": "stdout",
     "output_type": "stream",
     "text": [
      "t$cinssgk;nt?a'riha, :dyojuh?gk&tvihanro ykpo\n",
      "o$ gk\n"
     ]
    }
   ],
   "source": [
    "print(complete_text('t'))"
   ]
  },
  {
   "cell_type": "code",
   "execution_count": 27,
   "id": "f33f91e6-bd8b-4945-9df6-0dbab9587e9d",
   "metadata": {
    "scrolled": true
   },
   "outputs": [
    {
     "name": "stdout",
     "output_type": "stream",
     "text": [
      "t c!3',m dqztbrar'd!,blbbtjvopvo:ono!oiu ?-sa\n",
      "a, vl\n"
     ]
    }
   ],
   "source": [
    "print(complete_text('t', temperature=2))"
   ]
  },
  {
   "cell_type": "markdown",
   "id": "379d674e-29c2-48aa-8164-e2bb03cb7104",
   "metadata": {
    "tags": []
   },
   "source": [
    "### 상대가 있는 RNN"
   ]
  },
  {
   "cell_type": "code",
   "execution_count": 46,
   "id": "2364acd7-6947-4793-acf1-e2aece317f0e",
   "metadata": {
    "scrolled": true,
    "tags": []
   },
   "outputs": [],
   "source": [
    "dataset = tf.data.Dataset.from_tensor_slices(encoded[:train_size])\n",
    "dataset = dataset.window(window_length, n_steps, drop_remainder=True)\n",
    "dataset = dataset.flat_map(lambda window: window.batch(window_length))\n",
    "dataset = dataset.batch(1)\n",
    "dataset = dataset.map(lambda windows: (windows[:, :-1], windows[:, 1:]))\n",
    "dataset = dataset.map(lambda X_batch, Y_batch: (tf.one_hot(X_batch, max_id), Y_batch))\n",
    "dataset = dataset.prefetch(tf.data.AUTOTUNE)"
   ]
  },
  {
   "cell_type": "code",
   "execution_count": 47,
   "id": "391858c9-8050-45e5-8798-afb93b63de16",
   "metadata": {
    "scrolled": true
   },
   "outputs": [],
   "source": [
    "batch_size = 32\n",
    "encoded_parts = np.array_split(encoded[:train_size], batch_size)\n",
    "datasets = []\n",
    "for encoded_part in encoded_parts:\n",
    "    dataset = tf.data.Dataset.from_tensor_slices(encoded_part)\n",
    "    dataset = dataset.window(window_length, n_steps, drop_remainder=True)\n",
    "    dataset = dataset.flat_map(lambda window: window.batch(window_length))\n",
    "    datasets.append(dataset)\n",
    "dataset = tf.data.Dataset.zip(tuple(datasets)).map(lambda *windows: tf.stack(windows))\n",
    "dataset = dataset.map(lambda windows: (windows[:, :-1], windows[:, 1:]))\n",
    "dataset = dataset.map(lambda X_batch, Y_batch: (tf.one_hot(X_batch, max_id), Y_batch))\n",
    "dataset = dataset.prefetch(tf.data.AUTOTUNE)"
   ]
  },
  {
   "cell_type": "markdown",
   "id": "740acef2-9e51-47e6-a038-9efa102bac50",
   "metadata": {},
   "source": [
    "**노트**: 여기에서도 GPU 가속을 위해 `recurrent_dropout=0.2`을 주석 처리한다."
   ]
  },
  {
   "cell_type": "code",
   "execution_count": 48,
   "id": "517ab9f9-7902-4b73-8c51-e308ce987dcd",
   "metadata": {
    "scrolled": true
   },
   "outputs": [],
   "source": [
    "model = keras.models.Sequential(\n",
    "    [\n",
    "        keras.layers.GRU(\n",
    "            128, dropout=0.2, return_sequences=True, stateful=True, batch_input_shape=[batch_size, None, max_id]\n",
    "        ),  # recurrent_dropout=0.2\n",
    "        keras.layers.GRU(128, dropout=0.2, return_sequences=True, stateful=True),  # recurrent_dropout=0.2\n",
    "        keras.layers.TimeDistributed(keras.layers.Dense(max_id, 'softmax'))\n",
    "    ]\n",
    ")"
   ]
  },
  {
   "cell_type": "code",
   "execution_count": 51,
   "id": "240d56e8-3f0f-4c11-b073-e5b6522d5c87",
   "metadata": {
    "scrolled": true
   },
   "outputs": [],
   "source": [
    "class ResetStatesCallback(keras.callbacks.Callback):\n",
    "    def on_epoch_begin(self, epoch, logs):\n",
    "        self.model.reset_states()"
   ]
  },
  {
   "cell_type": "code",
   "execution_count": 53,
   "id": "a6b13ecb-92a0-4a1b-9958-aab9dab9e96a",
   "metadata": {
    "scrolled": true,
    "tags": []
   },
   "outputs": [
    {
     "name": "stdout",
     "output_type": "stream",
     "text": [
      "Epoch 1/50\n",
      "1/1 [==============================] - 2s 2s/step - loss: 1.8977\n",
      "Epoch 2/50\n",
      "1/1 [==============================] - 0s 46ms/step - loss: 1.8562\n",
      "Epoch 3/50\n",
      "1/1 [==============================] - 0s 36ms/step - loss: 1.8150\n",
      "Epoch 4/50\n",
      "1/1 [==============================] - 0s 39ms/step - loss: 1.8252\n",
      "Epoch 5/50\n",
      "1/1 [==============================] - 0s 39ms/step - loss: 1.8354\n",
      "Epoch 6/50\n",
      "1/1 [==============================] - 0s 39ms/step - loss: 1.8244\n",
      "Epoch 7/50\n",
      "1/1 [==============================] - 0s 35ms/step - loss: 1.7892\n",
      "Epoch 8/50\n",
      "1/1 [==============================] - 0s 37ms/step - loss: 1.7819\n",
      "Epoch 9/50\n",
      "1/1 [==============================] - 0s 36ms/step - loss: 1.7570\n",
      "Epoch 10/50\n",
      "1/1 [==============================] - 0s 38ms/step - loss: 1.7715\n",
      "Epoch 11/50\n",
      "1/1 [==============================] - 0s 35ms/step - loss: 1.7472\n",
      "Epoch 12/50\n",
      "1/1 [==============================] - 0s 40ms/step - loss: 1.7266\n",
      "Epoch 13/50\n",
      "1/1 [==============================] - 0s 42ms/step - loss: 1.7386\n",
      "Epoch 14/50\n",
      "1/1 [==============================] - 0s 38ms/step - loss: 1.7143\n",
      "Epoch 15/50\n",
      "1/1 [==============================] - 0s 38ms/step - loss: 1.6795\n",
      "Epoch 16/50\n",
      "1/1 [==============================] - 0s 38ms/step - loss: 1.6978\n",
      "Epoch 17/50\n",
      "1/1 [==============================] - 0s 41ms/step - loss: 1.7049\n",
      "Epoch 18/50\n",
      "1/1 [==============================] - 0s 36ms/step - loss: 1.7213\n",
      "Epoch 19/50\n",
      "1/1 [==============================] - 0s 35ms/step - loss: 1.7023\n",
      "Epoch 20/50\n",
      "1/1 [==============================] - 0s 37ms/step - loss: 1.6620\n",
      "Epoch 21/50\n",
      "1/1 [==============================] - 0s 36ms/step - loss: 1.6480\n",
      "Epoch 22/50\n",
      "1/1 [==============================] - 0s 38ms/step - loss: 1.6820\n",
      "Epoch 23/50\n",
      "1/1 [==============================] - 0s 40ms/step - loss: 1.6406\n",
      "Epoch 24/50\n",
      "1/1 [==============================] - 0s 40ms/step - loss: 1.6510\n",
      "Epoch 25/50\n",
      "1/1 [==============================] - 0s 43ms/step - loss: 1.6188\n",
      "Epoch 26/50\n",
      "1/1 [==============================] - 0s 38ms/step - loss: 1.6706\n",
      "Epoch 27/50\n",
      "1/1 [==============================] - 0s 39ms/step - loss: 1.6300\n",
      "Epoch 28/50\n",
      "1/1 [==============================] - 0s 40ms/step - loss: 1.6781\n",
      "Epoch 29/50\n",
      "1/1 [==============================] - 0s 42ms/step - loss: 1.6584\n",
      "Epoch 30/50\n",
      "1/1 [==============================] - 0s 40ms/step - loss: 1.6074\n",
      "Epoch 31/50\n",
      "1/1 [==============================] - 0s 42ms/step - loss: 1.6031\n",
      "Epoch 32/50\n",
      "1/1 [==============================] - 0s 43ms/step - loss: 1.5936\n",
      "Epoch 33/50\n",
      "1/1 [==============================] - 0s 39ms/step - loss: 1.6456\n",
      "Epoch 34/50\n",
      "1/1 [==============================] - 0s 36ms/step - loss: 1.5642\n",
      "Epoch 35/50\n",
      "1/1 [==============================] - 0s 35ms/step - loss: 1.5725\n",
      "Epoch 36/50\n",
      "1/1 [==============================] - 0s 36ms/step - loss: 1.6450\n",
      "Epoch 37/50\n",
      "1/1 [==============================] - 0s 40ms/step - loss: 1.5965\n",
      "Epoch 38/50\n",
      "1/1 [==============================] - 0s 41ms/step - loss: 1.5361\n",
      "Epoch 39/50\n",
      "1/1 [==============================] - 0s 38ms/step - loss: 1.5835\n",
      "Epoch 40/50\n",
      "1/1 [==============================] - 0s 42ms/step - loss: 1.5694\n",
      "Epoch 41/50\n",
      "1/1 [==============================] - 0s 38ms/step - loss: 1.5637\n",
      "Epoch 42/50\n",
      "1/1 [==============================] - 0s 44ms/step - loss: 1.5163\n",
      "Epoch 43/50\n",
      "1/1 [==============================] - 0s 37ms/step - loss: 1.5422\n",
      "Epoch 44/50\n",
      "1/1 [==============================] - 0s 42ms/step - loss: 1.5324\n",
      "Epoch 45/50\n",
      "1/1 [==============================] - 0s 38ms/step - loss: 1.5401\n",
      "Epoch 46/50\n",
      "1/1 [==============================] - 0s 43ms/step - loss: 1.5368\n",
      "Epoch 47/50\n",
      "1/1 [==============================] - 0s 41ms/step - loss: 1.5303\n",
      "Epoch 48/50\n",
      "1/1 [==============================] - 0s 39ms/step - loss: 1.5058\n",
      "Epoch 49/50\n",
      "1/1 [==============================] - 0s 38ms/step - loss: 1.5171\n",
      "Epoch 50/50\n",
      "1/1 [==============================] - 0s 36ms/step - loss: 1.5235\n"
     ]
    }
   ],
   "source": [
    "model.compile('adam', 'sparse_categorical_crossentropy')\n",
    "# history = model.fit(dataset, epochs=50, callbacks=[ResetStatesCallback()])\n",
    "history = model.fit(dataset.take(1), epochs=50, callbacks=[ResetStatesCallback()])"
   ]
  },
  {
   "cell_type": "markdown",
   "id": "d614c188-8f9b-4076-999d-fea2540d41a0",
   "metadata": {},
   "source": [
    "모델에 다른 크기의 배치를 사용하려면 상태가 없는 복사본을 만들어야 한다. 드롭아웃은 훈련에만 사용되기 때문에 삭제한다:"
   ]
  },
  {
   "cell_type": "code",
   "execution_count": 76,
   "id": "79a47e3a-35a4-458e-b188-444f188a7bd1",
   "metadata": {},
   "outputs": [],
   "source": [
    "stateless_model = keras.models.Sequential(\n",
    "    [\n",
    "        keras.layers.GRU(128, return_sequences=True, input_shape=[None, max_id]),\n",
    "        keras.layers.GRU(128, return_sequences=True),\n",
    "        keras.layers.TimeDistributed(keras.layers.Dense(max_id, 'softmax'))\n",
    "    ]\n",
    ")"
   ]
  },
  {
   "cell_type": "code",
   "execution_count": null,
   "id": "edbf7f27-6e0d-44f5-88c5-ed50a43b73b1",
   "metadata": {},
   "outputs": [],
   "source": []
  }
 ],
 "metadata": {
  "kernelspec": {
   "display_name": "Python 3 (ipykernel)",
   "language": "python",
   "name": "python3"
  },
  "language_info": {
   "codemirror_mode": {
    "name": "ipython",
    "version": 3
   },
   "file_extension": ".py",
   "mimetype": "text/x-python",
   "name": "python",
   "nbconvert_exporter": "python",
   "pygments_lexer": "ipython3",
   "version": "3.10.8"
  }
 },
 "nbformat": 4,
 "nbformat_minor": 5
}
