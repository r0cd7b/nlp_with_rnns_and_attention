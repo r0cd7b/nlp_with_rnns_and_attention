{
 "cells": [
  {
   "cell_type": "markdown",
   "id": "818dfdd9-e831-4b2d-a3fa-0e2f9e1c09ed",
   "metadata": {},
   "source": [
    "# **RNN과 어텐션을 사용한 자연어 처리**"
   ]
  },
  {
   "cell_type": "markdown",
   "id": "2de7dbfd-3f08-4880-9c2b-d322a0c48cf2",
   "metadata": {},
   "source": [
    "먼저 몇 개의 모듈을 임포트한다. 맷플롯립 그림을 저장하는 함수를 준비한다."
   ]
  },
  {
   "cell_type": "code",
   "execution_count": 1,
   "id": "119fcb3d-8dd5-4779-9a8c-2caed0738f0e",
   "metadata": {
    "scrolled": true
   },
   "outputs": [],
   "source": [
    "# 공통 모듈 임포트\n",
    "import os\n",
    "import matplotlib.pyplot as plt\n",
    "\n",
    "# 그림을 저장할 위치\n",
    "PROJECT_ROOT_DIR = '.'\n",
    "IMAGES_PATH = os.path.join(PROJECT_ROOT_DIR, 'images')\n",
    "os.makedirs(IMAGES_PATH, exist_ok=True)\n",
    "\n",
    "\n",
    "def save_fig(fig_id, tight_layout=True, fig_extension='png', resolution=300):\n",
    "    path = os.path.join(IMAGES_PATH, f'{fig_id}.{fig_extension}')\n",
    "    print(f'그림 저장 {fig_id}')\n",
    "    if tight_layout:\n",
    "        plt.tight_layout()\n",
    "    plt.savefig(path, dpi=resolution, format=fig_extension)"
   ]
  },
  {
   "cell_type": "markdown",
   "id": "840e8fa0-8d32-4ffd-a697-8e805aa2ca32",
   "metadata": {
    "tags": []
   },
   "source": [
    "## **Char-RNN을 사용해 셰익스피어 문제 생성하기**"
   ]
  },
  {
   "cell_type": "markdown",
   "id": "0fd897f3-c480-4c36-a094-fa2b7d223213",
   "metadata": {},
   "source": [
    "예를 들어, 0~14까지 시퀀스를 2개씩 이동하면서 길이가 5인 윈도우로 나누어 본다(가령,`[0, 1, 2, 3, 4]`, `[2, 3, 4, 5, 6]`, 등). 그다음 이를 섞고 입력(처음 네 개의 스텝)과 타깃(마지막 네 개의 스텝)으로 나눈다(즉, `[2, 3, 4, 5, 6]`를 `[[2, 3, 4, 5], [3, 4, 5, 6]]`로 나눈다). 그다음 입력/타깃 쌍 세 개로 구성된 배치를 만든다:"
   ]
  },
  {
   "cell_type": "code",
   "execution_count": 2,
   "id": "363dbd9f-18de-4b18-9e19-3e3bc3504a53",
   "metadata": {
    "scrolled": true,
    "tags": []
   },
   "outputs": [
    {
     "name": "stdout",
     "output_type": "stream",
     "text": [
      "____________________ Batch 0\n",
      "X_batch\n",
      "[[4 5 6 7]\n",
      " [0 1 2 3]\n",
      " [2 3 4 5]]\n",
      "=====\n",
      "Y_batch\n",
      "[[5 6 7 8]\n",
      " [1 2 3 4]\n",
      " [3 4 5 6]]\n",
      "____________________ Batch 1\n",
      "X_batch\n",
      "[[ 6  7  8  9]\n",
      " [ 8  9 10 11]\n",
      " [10 11 12 13]]\n",
      "=====\n",
      "Y_batch\n",
      "[[ 7  8  9 10]\n",
      " [ 9 10 11 12]\n",
      " [11 12 13 14]]\n"
     ]
    }
   ],
   "source": [
    "import tensorflow as tf\n",
    "\n",
    "n_steps = 5\n",
    "dataset = tf.data.Dataset.from_tensor_slices(tf.range(15))\n",
    "dataset = dataset.window(n_steps, 2, drop_remainder=True)\n",
    "dataset = dataset.flat_map(lambda window: window.batch(n_steps))\n",
    "dataset = dataset.shuffle(10).map(lambda window: (window[:-1], window[1:]))\n",
    "dataset = dataset.batch(3).prefetch(tf.data.AUTOTUNE)\n",
    "for index, (X_batch, Y_batch) in enumerate(dataset):\n",
    "    print(f'{\"_\" * 20} Batch {index}\\nX_batch\\n{X_batch.numpy()}\\n{\"=\" * 5}\\nY_batch\\n{Y_batch.numpy()}')"
   ]
  },
  {
   "cell_type": "markdown",
   "id": "2ea6087a-39f5-4e7c-b415-d0db9798eac5",
   "metadata": {},
   "source": [
    "### **훈련 데이터셋 만들기**"
   ]
  },
  {
   "cell_type": "code",
   "execution_count": 3,
   "id": "091c6705-e0c6-4003-a516-8108a01fed76",
   "metadata": {
    "scrolled": true
   },
   "outputs": [],
   "source": [
    "from tensorflow import keras\n",
    "\n",
    "shakespeare_url = 'https://raw.githubusercontent.com/karpathy/char-rnn/master/data/tinyshakespeare/input.txt'\n",
    "filepath = keras.utils.get_file('shakespeare.txt', shakespeare_url)\n",
    "with open(filepath) as f:\n",
    "    shakespeare_text = f.read()"
   ]
  },
  {
   "cell_type": "code",
   "execution_count": 4,
   "id": "4866e867-017f-43d4-a06e-6a0cc5430043",
   "metadata": {
    "scrolled": true,
    "tags": []
   },
   "outputs": [
    {
     "name": "stdout",
     "output_type": "stream",
     "text": [
      "First Citizen:\n",
      "Before we proceed any further, hear me speak.\n",
      "\n",
      "All:\n",
      "Speak, speak.\n",
      "\n",
      "First Citizen:\n",
      "You are all resolved rather to die than to famish?\n",
      "\n"
     ]
    }
   ],
   "source": [
    "print(shakespeare_text[:148])"
   ]
  },
  {
   "cell_type": "code",
   "execution_count": 5,
   "id": "8f4c97fd-e9ec-40b0-ab76-e411f66ac90e",
   "metadata": {
    "scrolled": true
   },
   "outputs": [
    {
     "data": {
      "text/plain": [
       "\"\\n !$&',-.3:;?abcdefghijklmnopqrstuvwxyz\""
      ]
     },
     "execution_count": 5,
     "metadata": {},
     "output_type": "execute_result"
    }
   ],
   "source": [
    "''.join(sorted(set(shakespeare_text.lower())))"
   ]
  },
  {
   "cell_type": "code",
   "execution_count": 6,
   "id": "8d7591a9-eeab-4975-a40a-ad41fb914627",
   "metadata": {
    "scrolled": true
   },
   "outputs": [],
   "source": [
    "tokenizer = keras.preprocessing.text.Tokenizer(char_level=True)\n",
    "tokenizer.fit_on_texts(shakespeare_text)"
   ]
  },
  {
   "cell_type": "code",
   "execution_count": 7,
   "id": "74645fc5-22b8-4dbc-982c-cd8a226f1bfe",
   "metadata": {
    "scrolled": true
   },
   "outputs": [
    {
     "data": {
      "text/plain": [
       "[[20, 6, 9, 8, 3]]"
      ]
     },
     "execution_count": 7,
     "metadata": {},
     "output_type": "execute_result"
    }
   ],
   "source": [
    "tokenizer.texts_to_sequences(['First'])"
   ]
  },
  {
   "cell_type": "code",
   "execution_count": 8,
   "id": "5cd5fbff-f1b2-4cfa-9131-2578ebedce6a",
   "metadata": {
    "scrolled": true,
    "tags": []
   },
   "outputs": [
    {
     "data": {
      "text/plain": [
       "['f i r s t']"
      ]
     },
     "execution_count": 8,
     "metadata": {},
     "output_type": "execute_result"
    }
   ],
   "source": [
    "tokenizer.sequences_to_texts([[20, 6, 9, 8, 3]])"
   ]
  },
  {
   "cell_type": "code",
   "execution_count": 9,
   "id": "9212b24a-4978-474e-ae50-3fecb38c003c",
   "metadata": {
    "scrolled": true,
    "tags": []
   },
   "outputs": [],
   "source": [
    "max_id = len(tokenizer.word_index)  # 고유한 문자 개수\n",
    "dataset_size = tokenizer.document_count  # 전체 문자 개수"
   ]
  },
  {
   "cell_type": "code",
   "execution_count": 10,
   "id": "5aa3f3b4-83d1-4216-a271-f1bbbe2ed67a",
   "metadata": {
    "scrolled": true,
    "tags": []
   },
   "outputs": [],
   "source": [
    "import numpy as np\n",
    "\n",
    "[encoded] = np.array(tokenizer.texts_to_sequences([shakespeare_text])) - 1"
   ]
  },
  {
   "cell_type": "markdown",
   "id": "d407efb6-37c9-4815-a4b7-4ed9e12a1dbf",
   "metadata": {},
   "source": [
    "### **순차 데이터셋을 나누는 방법**"
   ]
  },
  {
   "cell_type": "code",
   "execution_count": 11,
   "id": "319cfaeb-6e85-4df6-b81e-d3eeb3a605ee",
   "metadata": {
    "scrolled": true,
    "tags": []
   },
   "outputs": [],
   "source": [
    "train_size = dataset_size * 90 // 100\n",
    "dataset = tf.data.Dataset.from_tensor_slices(encoded[:train_size])"
   ]
  },
  {
   "cell_type": "markdown",
   "id": "9a5ebf77-da20-4798-b3b5-7ddccc7ca003",
   "metadata": {
    "tags": []
   },
   "source": [
    "### **순차 데이터를 윈도 여러 개로 자르기**"
   ]
  },
  {
   "cell_type": "code",
   "execution_count": 12,
   "id": "6746eaac-5470-44d4-9e78-1a8404c0941b",
   "metadata": {
    "scrolled": true
   },
   "outputs": [],
   "source": [
    "n_steps = 100\n",
    "window_length = n_steps + 1  # 타깃 = 한 글자 앞선 입력\n",
    "dataset = dataset.window(window_length, 1, drop_remainder=True)"
   ]
  },
  {
   "cell_type": "code",
   "execution_count": 13,
   "id": "77585957-6358-4b08-9f7e-395846f81e57",
   "metadata": {
    "scrolled": true
   },
   "outputs": [],
   "source": [
    "dataset = dataset.flat_map(lambda window: window.batch(window_length))"
   ]
  },
  {
   "cell_type": "code",
   "execution_count": 14,
   "id": "f0d6199d-edad-4c23-8526-62b4ca04081b",
   "metadata": {
    "scrolled": true
   },
   "outputs": [],
   "source": [
    "batch_size = 32\n",
    "dataset = dataset.shuffle(10000).batch(batch_size)\n",
    "dataset = dataset.map(lambda windows: (windows[:, :-1], windows[:, 1:]))"
   ]
  },
  {
   "cell_type": "code",
   "execution_count": 15,
   "id": "7d7e4415-9e1f-484e-902d-7111c03271d2",
   "metadata": {
    "scrolled": true
   },
   "outputs": [],
   "source": [
    "dataset = dataset.map(lambda X_batch, Y_batch: (tf.one_hot(X_batch, max_id), Y_batch))"
   ]
  },
  {
   "cell_type": "code",
   "execution_count": 16,
   "id": "48711eb7-5216-4ad7-921c-6b35c5ef0b0c",
   "metadata": {
    "scrolled": true,
    "tags": []
   },
   "outputs": [],
   "source": [
    "dataset = dataset.prefetch(tf.data.AUTOTUNE)"
   ]
  },
  {
   "cell_type": "code",
   "execution_count": 17,
   "id": "1be07385-d55f-4235-a659-80fa840a9ea4",
   "metadata": {
    "scrolled": true,
    "tags": []
   },
   "outputs": [
    {
     "name": "stdout",
     "output_type": "stream",
     "text": [
      "(32, 100, 39) (32, 100)\n"
     ]
    }
   ],
   "source": [
    "for X_batch, Y_batch in dataset.take(1):\n",
    "    print(X_batch.shape, Y_batch.shape)"
   ]
  },
  {
   "cell_type": "markdown",
   "id": "45438362-ed83-4fcd-8eeb-58fb6e79d9ef",
   "metadata": {},
   "source": [
    "### **Char-RNN 모델 만들고 훈련하기**"
   ]
  },
  {
   "cell_type": "markdown",
   "id": "34525f55-9149-4a84-a31c-e53bf0ddf82a",
   "metadata": {},
   "source": [
    "**경고**: 다음 코드는 하드웨어에 따라 실행하는데 24시간이 걸릴 수 있다. GPU를 사용하면 1~2시간 정도 걸릴 수 있다."
   ]
  },
  {
   "cell_type": "markdown",
   "id": "63545788-9fbf-4fa8-b6f3-07b547386878",
   "metadata": {},
   "source": [
    "**노트**: `GRU` 클래스는 다음 매개변수에서 기본값을 사용할 때에만 GPU를 사용한다: `activation`, `recurrent_activation`, `recurrent_dropout`, `unroll`, `use_bias` `reset_after`. 이 때문에 `recurrent_dropout=0.2`를 주석 처리했다."
   ]
  },
  {
   "cell_type": "code",
   "execution_count": 18,
   "id": "b9c105da-327f-4b26-a87e-3fa06a88add9",
   "metadata": {
    "scrolled": true,
    "tags": []
   },
   "outputs": [
    {
     "name": "stdout",
     "output_type": "stream",
     "text": [
      "2142/2142 [==============================] - 75s 28ms/step - loss: 1.9490\n"
     ]
    }
   ],
   "source": [
    "model = keras.Sequential(\n",
    "    [\n",
    "        keras.layers.GRU(128, dropout=0.2, return_sequences=True, input_shape=[None, max_id]),  # recurrent_dropout=0.2\n",
    "        keras.layers.GRU(128, dropout=0.2, return_sequences=True),  # recurrent_dropout=0.2\n",
    "        keras.layers.TimeDistributed(keras.layers.Dense(max_id, 'softmax'))\n",
    "    ]\n",
    ")\n",
    "model.compile('adam', 'sparse_categorical_crossentropy')\n",
    "# history = model.fit(dataset, epochs=10)\n",
    "history = model.fit(dataset.take(2142))"
   ]
  },
  {
   "cell_type": "markdown",
   "id": "3e065685-b6cd-4a40-945d-a43be9df65e7",
   "metadata": {},
   "source": [
    "### **Char-RNN 모델 사용하기**"
   ]
  },
  {
   "cell_type": "code",
   "execution_count": 19,
   "id": "92db38bc-5e31-487f-b7a0-a7965cc6732e",
   "metadata": {
    "scrolled": true
   },
   "outputs": [],
   "source": [
    "def preprocess(texts):\n",
    "    X = np.array(tokenizer.texts_to_sequences(texts)) - 1\n",
    "    return tf.one_hot(X, max_id)"
   ]
  },
  {
   "cell_type": "code",
   "execution_count": 20,
   "id": "2f850de9-9857-48dd-a58d-b38c210509bd",
   "metadata": {
    "scrolled": true
   },
   "outputs": [
    {
     "data": {
      "text/plain": [
       "'u'"
      ]
     },
     "execution_count": 20,
     "metadata": {},
     "output_type": "execute_result"
    }
   ],
   "source": [
    "X_new = preprocess(['How are yo'])\n",
    "Y_pred = np.argmax(model(X_new), -1)\n",
    "tokenizer.sequences_to_texts(Y_pred + 1)[0][-1]  # 첫 번째 문장, 마지막 문자"
   ]
  },
  {
   "cell_type": "markdown",
   "id": "a3205dcb-76d5-475e-921f-d6f1fc6ce18c",
   "metadata": {},
   "source": [
    "### **가짜 셰익스피어 텍스트를 생성하기**"
   ]
  },
  {
   "cell_type": "code",
   "execution_count": 21,
   "id": "075cab5a-19d6-44b7-bd4a-30780e3edc62",
   "metadata": {
    "scrolled": true,
    "tags": []
   },
   "outputs": [
    {
     "data": {
      "text/plain": [
       "array([[1, 0, 1, 1, 1, 0, 1, 1, 1, 0, 1, 0, 0, 0, 0, 2, 0, 0, 1, 2, 1, 1,\n",
       "        1, 2, 1, 1, 0, 0, 2, 0, 0, 1, 0, 0, 0, 0, 1, 1, 2, 2]],\n",
       "      dtype=int64)"
      ]
     },
     "execution_count": 21,
     "metadata": {},
     "output_type": "execute_result"
    }
   ],
   "source": [
    "tf.random.categorical([[np.log(0.5), np.log(0.4), np.log(0.1)]], 40).numpy()"
   ]
  },
  {
   "cell_type": "code",
   "execution_count": 22,
   "id": "b7357390-ed83-44f6-88a4-c93089165cac",
   "metadata": {
    "scrolled": true,
    "tags": []
   },
   "outputs": [],
   "source": [
    "def next_char(text, temperature=1):\n",
    "    X_new = preprocess([text])\n",
    "    y_proba = model(X_new)[0, -1:, :]\n",
    "    rescaled_logits = tf.math.log(y_proba) / temperature\n",
    "    char_id = tf.random.categorical(rescaled_logits, 1) + 1\n",
    "    return tokenizer.sequences_to_texts(char_id.numpy())[0]"
   ]
  },
  {
   "cell_type": "code",
   "execution_count": 23,
   "id": "761ca93d-3959-424a-9fe2-f8929ab4f799",
   "metadata": {
    "scrolled": true
   },
   "outputs": [
    {
     "data": {
      "text/plain": [
       "'u'"
      ]
     },
     "execution_count": 23,
     "metadata": {},
     "output_type": "execute_result"
    }
   ],
   "source": [
    "next_char('How are yo')"
   ]
  },
  {
   "cell_type": "code",
   "execution_count": 24,
   "id": "5274a4ee-be22-4949-8752-16ec8ab9e46c",
   "metadata": {
    "scrolled": true
   },
   "outputs": [],
   "source": [
    "def complete_text(text, n_chars=50, temperature=1):\n",
    "    for _ in range(n_chars):\n",
    "        text += next_char(text, temperature)\n",
    "    return text"
   ]
  },
  {
   "cell_type": "code",
   "execution_count": 25,
   "id": "9586bbfc-475f-45ca-8578-4796064fe97c",
   "metadata": {
    "scrolled": true
   },
   "outputs": [
    {
     "name": "stdout",
     "output_type": "stream",
     "text": [
      "t the corn and the people, the consul, the corsel t\n"
     ]
    }
   ],
   "source": [
    "print(complete_text('t', temperature=0.2))"
   ]
  },
  {
   "cell_type": "code",
   "execution_count": 26,
   "id": "6ab2af9f-db86-427c-9d58-c8b72476bc00",
   "metadata": {
    "scrolled": true
   },
   "outputs": [
    {
     "name": "stdout",
     "output_type": "stream",
     "text": [
      "ter, but think dis fire? this is riburn ind folsces\n"
     ]
    }
   ],
   "source": [
    "print(complete_text('t'))"
   ]
  },
  {
   "cell_type": "code",
   "execution_count": 27,
   "id": "f33f91e6-bd8b-4945-9df6-0dbab9587e9d",
   "metadata": {
    "scrolled": true
   },
   "outputs": [
    {
     "name": "stdout",
     "output_type": "stream",
     "text": [
      "tegse spiri.\n",
      "hc't.! trann! my\n",
      "ds,ralwc\n",
      "\n",
      "teich' , ub\n"
     ]
    }
   ],
   "source": [
    "print(complete_text('t', temperature=2))"
   ]
  },
  {
   "cell_type": "markdown",
   "id": "379d674e-29c2-48aa-8164-e2bb03cb7104",
   "metadata": {
    "tags": []
   },
   "source": [
    "### **상태가 있는 RNN**"
   ]
  },
  {
   "cell_type": "code",
   "execution_count": 28,
   "id": "2364acd7-6947-4793-acf1-e2aece317f0e",
   "metadata": {
    "scrolled": true,
    "tags": []
   },
   "outputs": [],
   "source": [
    "dataset = tf.data.Dataset.from_tensor_slices(encoded[:train_size])\n",
    "dataset = dataset.window(window_length, n_steps, drop_remainder=True)\n",
    "dataset = dataset.flat_map(lambda window: window.batch(window_length))\n",
    "dataset = dataset.batch(1)\n",
    "dataset = dataset.map(lambda windows: (windows[:, :-1], windows[:, 1:]))\n",
    "dataset = dataset.map(lambda X_batch, Y_batch: (tf.one_hot(X_batch, max_id), Y_batch))\n",
    "dataset = dataset.prefetch(tf.data.AUTOTUNE)"
   ]
  },
  {
   "cell_type": "code",
   "execution_count": 29,
   "id": "391858c9-8050-45e5-8798-afb93b63de16",
   "metadata": {
    "scrolled": true
   },
   "outputs": [],
   "source": [
    "batch_size = 32\n",
    "encoded_parts = np.array_split(encoded[:train_size], batch_size)\n",
    "datasets = []\n",
    "for encoded_part in encoded_parts:\n",
    "    dataset = tf.data.Dataset.from_tensor_slices(encoded_part)\n",
    "    dataset = dataset.window(window_length, n_steps, drop_remainder=True)\n",
    "    dataset = dataset.flat_map(lambda window: window.batch(window_length))\n",
    "    datasets.append(dataset)\n",
    "dataset = tf.data.Dataset.zip(tuple(datasets)).map(lambda *windows: tf.stack(windows))\n",
    "dataset = dataset.map(lambda windows: (windows[:, :-1], windows[:, 1:]))\n",
    "dataset = dataset.map(lambda X_batch, Y_batch: (tf.one_hot(X_batch, max_id), Y_batch))\n",
    "dataset = dataset.prefetch(tf.data.AUTOTUNE)"
   ]
  },
  {
   "cell_type": "markdown",
   "id": "740acef2-9e51-47e6-a038-9efa102bac50",
   "metadata": {},
   "source": [
    "**노트**: 여기에서도 GPU 가속을 위해 `recurrent_dropout=0.2`을 주석 처리한다."
   ]
  },
  {
   "cell_type": "code",
   "execution_count": 30,
   "id": "517ab9f9-7902-4b73-8c51-e308ce987dcd",
   "metadata": {
    "scrolled": true
   },
   "outputs": [],
   "source": [
    "model = keras.Sequential(\n",
    "    [\n",
    "        keras.layers.GRU(\n",
    "            128, dropout=0.2, return_sequences=True, stateful=True, batch_input_shape=[batch_size, None, max_id]\n",
    "        ),  # recurrent_dropout=0.2\n",
    "        keras.layers.GRU(128, dropout=0.2, return_sequences=True, stateful=True),  # recurrent_dropout=0.2\n",
    "        keras.layers.TimeDistributed(keras.layers.Dense(max_id, 'softmax'))\n",
    "    ]\n",
    ")"
   ]
  },
  {
   "cell_type": "code",
   "execution_count": 31,
   "id": "240d56e8-3f0f-4c11-b073-e5b6522d5c87",
   "metadata": {
    "scrolled": true
   },
   "outputs": [],
   "source": [
    "class ResetStatesCallback(keras.callbacks.Callback):\n",
    "    def on_epoch_begin(self, epoch, logs):\n",
    "        self.model.reset_states()"
   ]
  },
  {
   "cell_type": "code",
   "execution_count": 32,
   "id": "a6b13ecb-92a0-4a1b-9958-aab9dab9e96a",
   "metadata": {
    "scrolled": true,
    "tags": []
   },
   "outputs": [
    {
     "name": "stdout",
     "output_type": "stream",
     "text": [
      "Epoch 1/7\n",
      "313/313 [==============================] - 10s 26ms/step - loss: 2.6247\n",
      "Epoch 2/7\n",
      "313/313 [==============================] - 8s 26ms/step - loss: 2.2471\n",
      "Epoch 3/7\n",
      "313/313 [==============================] - 8s 26ms/step - loss: 2.1134\n",
      "Epoch 4/7\n",
      "313/313 [==============================] - 8s 26ms/step - loss: 2.0371\n",
      "Epoch 5/7\n",
      "313/313 [==============================] - 8s 26ms/step - loss: 1.9850\n",
      "Epoch 6/7\n",
      "313/313 [==============================] - 8s 26ms/step - loss: 1.9481\n",
      "Epoch 7/7\n",
      "313/313 [==============================] - 8s 26ms/step - loss: 1.9202\n"
     ]
    }
   ],
   "source": [
    "model.compile('adam', 'sparse_categorical_crossentropy')\n",
    "# history = model.fit(dataset, epochs=50, callbacks=[ResetStatesCallback()])\n",
    "history = model.fit(dataset, epochs=7, callbacks=[ResetStatesCallback()])"
   ]
  },
  {
   "cell_type": "markdown",
   "id": "d614c188-8f9b-4076-999d-fea2540d41a0",
   "metadata": {},
   "source": [
    "모델에 다른 크기의 배치를 사용하려면 상태가 없는 복사본을 만들어야 한다. 드롭아웃은 훈련에만 사용되기 때문에 삭제한다:"
   ]
  },
  {
   "cell_type": "code",
   "execution_count": 33,
   "id": "79a47e3a-35a4-458e-b188-444f188a7bd1",
   "metadata": {
    "scrolled": true
   },
   "outputs": [],
   "source": [
    "stateless_model = keras.Sequential(\n",
    "    [\n",
    "        keras.layers.GRU(128, return_sequences=True, input_shape=[None, max_id]),\n",
    "        keras.layers.GRU(128, return_sequences=True),\n",
    "        keras.layers.TimeDistributed(keras.layers.Dense(max_id, 'softmax'))\n",
    "    ]\n",
    ")"
   ]
  },
  {
   "cell_type": "markdown",
   "id": "ceba5567-8ea2-4fb6-818f-8ab2407b1d36",
   "metadata": {},
   "source": [
    "가중치를 복사하려면 먼저 (가중치를 만들기 위해) 모델을 빌드한다:"
   ]
  },
  {
   "cell_type": "code",
   "execution_count": 34,
   "id": "f5dd5bf9-4aee-41a0-9a54-87bd3794cc44",
   "metadata": {
    "scrolled": true
   },
   "outputs": [],
   "source": [
    "stateless_model.build(tf.TensorShape([None, None, max_id]))"
   ]
  },
  {
   "cell_type": "code",
   "execution_count": 35,
   "id": "9c32afe4-a086-4184-bf82-5ec99c6ff4b6",
   "metadata": {
    "scrolled": true
   },
   "outputs": [],
   "source": [
    "stateless_model.set_weights(model.get_weights())\n",
    "model = stateless_model"
   ]
  },
  {
   "cell_type": "code",
   "execution_count": 36,
   "id": "a8af05c2-655f-4d78-94c6-9884de53fcb2",
   "metadata": {
    "scrolled": true
   },
   "outputs": [
    {
     "name": "stdout",
     "output_type": "stream",
     "text": [
      "t.\n",
      "well, i was stose by and thou patisury\n",
      "his nastl\n"
     ]
    }
   ],
   "source": [
    "print(complete_text('t'))"
   ]
  },
  {
   "cell_type": "markdown",
   "id": "e5808f2c-e36b-41c4-ac89-c702ad5fff03",
   "metadata": {},
   "source": [
    "## **감성 분석**"
   ]
  },
  {
   "cell_type": "code",
   "execution_count": 37,
   "id": "16c830c6-872e-4830-8dc2-7be3a8b1a27a",
   "metadata": {
    "scrolled": true,
    "tags": []
   },
   "outputs": [],
   "source": [
    "(X_train, y_train), (X_test, y_test) = keras.datasets.imdb.load_data()"
   ]
  },
  {
   "cell_type": "code",
   "execution_count": 38,
   "id": "bb45b349-13af-42f2-85ff-46d604283070",
   "metadata": {
    "scrolled": true
   },
   "outputs": [
    {
     "data": {
      "text/plain": [
       "[1, 14, 22, 16, 43, 530, 973, 1622, 1385, 65]"
      ]
     },
     "execution_count": 38,
     "metadata": {},
     "output_type": "execute_result"
    }
   ],
   "source": [
    "X_train[0][:10]"
   ]
  },
  {
   "cell_type": "code",
   "execution_count": 39,
   "id": "dec14aa2-0a32-41d9-980f-ca3b8516271f",
   "metadata": {
    "scrolled": true
   },
   "outputs": [
    {
     "data": {
      "text/plain": [
       "'<sos> this film was just brilliant casting location scenery story'"
      ]
     },
     "execution_count": 39,
     "metadata": {},
     "output_type": "execute_result"
    }
   ],
   "source": [
    "word_index = keras.datasets.imdb.get_word_index()\n",
    "id_to_word = {id_ + 3: word for word, id_ in word_index.items()}\n",
    "for id_, token in enumerate(('<pad>', '<sos>', '<unk>')):\n",
    "    id_to_word[id_] = token\n",
    "' '.join([id_to_word[id_] for id_ in X_train[0][:10]])"
   ]
  },
  {
   "cell_type": "code",
   "execution_count": 40,
   "id": "ad6b9a52-a82a-469d-901b-8f13af6d6335",
   "metadata": {
    "scrolled": true
   },
   "outputs": [],
   "source": [
    "import tensorflow_datasets as tfds\n",
    "\n",
    "datasets, info = tfds.load('imdb_reviews', as_supervised=True, with_info=True)"
   ]
  },
  {
   "cell_type": "code",
   "execution_count": 41,
   "id": "511b6565-5b35-43f5-972c-8949c0d8a7dd",
   "metadata": {
    "scrolled": true
   },
   "outputs": [
    {
     "data": {
      "text/plain": [
       "dict_keys(['train', 'test', 'unsupervised'])"
      ]
     },
     "execution_count": 41,
     "metadata": {},
     "output_type": "execute_result"
    }
   ],
   "source": [
    "datasets.keys()"
   ]
  },
  {
   "cell_type": "code",
   "execution_count": 42,
   "id": "d313ab2d-949d-4d74-9b2a-3ce512334e67",
   "metadata": {
    "scrolled": true,
    "tags": []
   },
   "outputs": [],
   "source": [
    "train_size = info.splits['train'].num_examples\n",
    "test_size = info.splits['test'].num_examples"
   ]
  },
  {
   "cell_type": "code",
   "execution_count": 43,
   "id": "7aa9a4b6-0662-4f70-b164-8eaf244049aa",
   "metadata": {
    "scrolled": true
   },
   "outputs": [
    {
     "data": {
      "text/plain": [
       "(25000, 25000)"
      ]
     },
     "execution_count": 43,
     "metadata": {},
     "output_type": "execute_result"
    }
   ],
   "source": [
    "train_size, test_size"
   ]
  },
  {
   "cell_type": "code",
   "execution_count": 44,
   "id": "55c4d675-1017-4f11-8304-2a745ef723b9",
   "metadata": {
    "scrolled": true,
    "tags": []
   },
   "outputs": [
    {
     "name": "stdout",
     "output_type": "stream",
     "text": [
      "Review: This was an absolutely terrible movie. Don't be lured in by Christopher Walken or Michael Ironside. Both are great actors, but this must simply be their worst role in history. Even their great acting ...\n",
      "Label: 0 = Negative\n",
      "\n",
      "Review: I have been known to fall asleep during films, but this is usually due to a combination of things including, really tired, being warm and comfortable on the sette and having just eaten a lot. However ...\n",
      "Label: 0 = Negative\n",
      "\n"
     ]
    }
   ],
   "source": [
    "for X_batch, y_batch in datasets['train'].batch(2).take(1):\n",
    "    for review, label in zip(X_batch.numpy(), y_batch.numpy()):\n",
    "        print(f'Review: {review.decode(\"utf-8\")[:200]}...\\nLabel: {label} = {\"Positive\" if label else \"Negative\"}\\n')"
   ]
  },
  {
   "cell_type": "code",
   "execution_count": 45,
   "id": "28d32825-d84f-48a3-aefa-081e941ac352",
   "metadata": {
    "scrolled": true
   },
   "outputs": [],
   "source": [
    "def preprocess(X_batch, y_batch):\n",
    "    X_batch = tf.strings.substr(X_batch, 0, 300)\n",
    "    X_batch = tf.strings.regex_replace(X_batch, b'<br\\s*/?>', b' ')\n",
    "    X_batch = tf.strings.regex_replace(X_batch, b\"[^a-zA-Z']\", b' ')\n",
    "    X_batch = tf.strings.split(X_batch)\n",
    "    return X_batch.to_tensor(b'<pad>'), y_batch"
   ]
  },
  {
   "cell_type": "code",
   "execution_count": 46,
   "id": "fe60d6c9-8421-479b-b6b1-feb21f1ae78b",
   "metadata": {
    "scrolled": true,
    "tags": []
   },
   "outputs": [
    {
     "data": {
      "text/plain": [
       "(<tf.Tensor: shape=(2, 53), dtype=string, numpy=\n",
       " array([[b'This', b'was', b'an', b'absolutely', b'terrible', b'movie',\n",
       "         b\"Don't\", b'be', b'lured', b'in', b'by', b'Christopher',\n",
       "         b'Walken', b'or', b'Michael', b'Ironside', b'Both', b'are',\n",
       "         b'great', b'actors', b'but', b'this', b'must', b'simply', b'be',\n",
       "         b'their', b'worst', b'role', b'in', b'history', b'Even',\n",
       "         b'their', b'great', b'acting', b'could', b'not', b'redeem',\n",
       "         b'this', b\"movie's\", b'ridiculous', b'storyline', b'This',\n",
       "         b'movie', b'is', b'an', b'early', b'nineties', b'US',\n",
       "         b'propaganda', b'pi', b'<pad>', b'<pad>', b'<pad>'],\n",
       "        [b'I', b'have', b'been', b'known', b'to', b'fall', b'asleep',\n",
       "         b'during', b'films', b'but', b'this', b'is', b'usually', b'due',\n",
       "         b'to', b'a', b'combination', b'of', b'things', b'including',\n",
       "         b'really', b'tired', b'being', b'warm', b'and', b'comfortable',\n",
       "         b'on', b'the', b'sette', b'and', b'having', b'just', b'eaten',\n",
       "         b'a', b'lot', b'However', b'on', b'this', b'occasion', b'I',\n",
       "         b'fell', b'asleep', b'because', b'the', b'film', b'was',\n",
       "         b'rubbish', b'The', b'plot', b'development', b'was', b'constant',\n",
       "         b'Cons']], dtype=object)>,\n",
       " <tf.Tensor: shape=(2,), dtype=int64, numpy=array([0, 0], dtype=int64)>)"
      ]
     },
     "execution_count": 46,
     "metadata": {},
     "output_type": "execute_result"
    }
   ],
   "source": [
    "preprocess(X_batch, y_batch)"
   ]
  },
  {
   "cell_type": "code",
   "execution_count": 47,
   "id": "97d5fbb6-cb73-4c6f-8505-a0bdbd2a5c96",
   "metadata": {
    "scrolled": true,
    "tags": []
   },
   "outputs": [],
   "source": [
    "from collections import Counter\n",
    "\n",
    "vocabulary = Counter()\n",
    "for X_batch, _ in datasets['train'].batch(32).map(preprocess):\n",
    "    for review in X_batch:\n",
    "        vocabulary.update(list(review.numpy()))"
   ]
  },
  {
   "cell_type": "code",
   "execution_count": 48,
   "id": "649641cb-b3ff-4225-a2b8-47c98e02cce6",
   "metadata": {
    "scrolled": true
   },
   "outputs": [
    {
     "data": {
      "text/plain": [
       "[(b'<pad>', 214309), (b'the', 61137), (b'a', 38564)]"
      ]
     },
     "execution_count": 48,
     "metadata": {},
     "output_type": "execute_result"
    }
   ],
   "source": [
    "vocabulary.most_common()[:3]"
   ]
  },
  {
   "cell_type": "code",
   "execution_count": 49,
   "id": "e005907d-8efd-4b0a-9556-8dbb54492da6",
   "metadata": {
    "scrolled": true
   },
   "outputs": [
    {
     "data": {
      "text/plain": [
       "53893"
      ]
     },
     "execution_count": 49,
     "metadata": {},
     "output_type": "execute_result"
    }
   ],
   "source": [
    "len(vocabulary)"
   ]
  },
  {
   "cell_type": "code",
   "execution_count": 50,
   "id": "b1316dab-c9ed-43ee-8472-014e4bfdd9e0",
   "metadata": {
    "scrolled": true,
    "tags": []
   },
   "outputs": [],
   "source": [
    "vocab_size = 10000\n",
    "truncated_vocabulary = [word for word, _ in vocabulary.most_common()[:vocab_size]]"
   ]
  },
  {
   "cell_type": "code",
   "execution_count": 51,
   "id": "5dd27652-8d5f-415f-a762-5f4d27bc8928",
   "metadata": {
    "scrolled": true
   },
   "outputs": [
    {
     "name": "stdout",
     "output_type": "stream",
     "text": [
      "22\n",
      "12\n",
      "11\n",
      "10000\n"
     ]
    }
   ],
   "source": [
    "word_to_id = {word: index for index, word in enumerate(truncated_vocabulary)}\n",
    "for word in b'This movie was faaaaaantastic'.split():\n",
    "    print(word_to_id.get(word) or vocab_size)"
   ]
  },
  {
   "cell_type": "code",
   "execution_count": 52,
   "id": "d2224486-e46a-488a-8455-45a7c9b766b0",
   "metadata": {
    "scrolled": true
   },
   "outputs": [],
   "source": [
    "words = tf.constant(truncated_vocabulary)\n",
    "word_ids = tf.range(len(truncated_vocabulary), dtype=tf.int64)\n",
    "vocab_init = tf.lookup.KeyValueTensorInitializer(words, word_ids)\n",
    "num_oov_buckets = 1000\n",
    "table = tf.lookup.StaticVocabularyTable(vocab_init, num_oov_buckets)"
   ]
  },
  {
   "cell_type": "code",
   "execution_count": 53,
   "id": "e7f468bd-6f6d-4fb8-83e1-5b36a6a88018",
   "metadata": {
    "scrolled": true
   },
   "outputs": [
    {
     "data": {
      "text/plain": [
       "<tf.Tensor: shape=(1, 4), dtype=int64, numpy=array([[   22,    12,    11, 10053]], dtype=int64)>"
      ]
     },
     "execution_count": 53,
     "metadata": {},
     "output_type": "execute_result"
    }
   ],
   "source": [
    "table.lookup(tf.constant([b'This movie was faaaaaantastic'.split()]))"
   ]
  },
  {
   "cell_type": "code",
   "execution_count": 54,
   "id": "233d2f54-cd7e-412b-9465-defed7f3a342",
   "metadata": {
    "scrolled": true,
    "tags": []
   },
   "outputs": [],
   "source": [
    "def encode_words(X_batch, y_batch):\n",
    "    return table.lookup(X_batch), y_batch\n",
    "\n",
    "\n",
    "train_set = datasets['train'].batch(32).map(preprocess)\n",
    "train_set = train_set.map(encode_words).prefetch(tf.data.AUTOTUNE)"
   ]
  },
  {
   "cell_type": "code",
   "execution_count": 55,
   "id": "e4702820-d989-4b29-90ee-9a55dc9a52f3",
   "metadata": {
    "scrolled": true,
    "tags": []
   },
   "outputs": [
    {
     "name": "stdout",
     "output_type": "stream",
     "text": [
      "tf.Tensor(\n",
      "[[  22   11   28 ...    0    0    0]\n",
      " [   6   21   70 ...    0    0    0]\n",
      " [4099 6881    1 ...    0    0    0]\n",
      " ...\n",
      " [  22   12  118 ...  331 1047    0]\n",
      " [1757 4101  451 ...    0    0    0]\n",
      " [3365 4392    6 ...    0    0    0]], shape=(32, 60), dtype=int64)\n",
      "tf.Tensor([0 0 0 1 1 1 0 0 0 0 0 1 1 0 1 0 1 1 1 0 1 1 1 1 1 0 0 0 1 0 0 0], shape=(32,), dtype=int64)\n"
     ]
    }
   ],
   "source": [
    "for X_batch, y_batch in train_set.take(1):\n",
    "    print(X_batch)\n",
    "    print(y_batch)"
   ]
  },
  {
   "cell_type": "code",
   "execution_count": 56,
   "id": "8156c98c-4080-49b2-82ac-21a166185011",
   "metadata": {
    "scrolled": true
   },
   "outputs": [
    {
     "name": "stdout",
     "output_type": "stream",
     "text": [
      "Epoch 1/2\n",
      "782/782 [==============================] - 26s 24ms/step - loss: 0.5382 - accuracy: 0.7220\n",
      "Epoch 2/2\n",
      "782/782 [==============================] - 19s 24ms/step - loss: 0.3475 - accuracy: 0.8554\n"
     ]
    }
   ],
   "source": [
    "embed_size = 128\n",
    "model = keras.Sequential(\n",
    "    [\n",
    "        keras.layers.Embedding(vocab_size + num_oov_buckets, embed_size, mask_zero=True, input_shape=[None]),\n",
    "        keras.layers.GRU(128, return_sequences=True),\n",
    "        keras.layers.GRU(128),\n",
    "        keras.layers.Dense(1, 'sigmoid')\n",
    "    ]\n",
    ")\n",
    "model.compile('adam', 'binary_crossentropy', ['accuracy'])\n",
    "# history = model.fit(train_set, epochs=5)\n",
    "history = model.fit(train_set, epochs=2)"
   ]
  },
  {
   "cell_type": "markdown",
   "id": "f6b58ca9-7899-435c-a8b0-62a1d4917131",
   "metadata": {},
   "source": [
    "### **마스킹**"
   ]
  },
  {
   "cell_type": "code",
   "execution_count": 57,
   "id": "72340150-8ed0-4c26-8f61-ebf4c875f0cb",
   "metadata": {
    "scrolled": true,
    "tags": []
   },
   "outputs": [
    {
     "name": "stdout",
     "output_type": "stream",
     "text": [
      "Epoch 1/2\n",
      "782/782 [==============================] - 26s 25ms/step - loss: 0.5389 - accuracy: 0.7235\n",
      "Epoch 2/2\n",
      "782/782 [==============================] - 19s 25ms/step - loss: 0.3492 - accuracy: 0.8559\n"
     ]
    }
   ],
   "source": [
    "K = keras.backend\n",
    "embed_size = 128\n",
    "inputs = keras.Input([None])\n",
    "mask = keras.layers.Lambda(lambda inputs: K.not_equal(inputs, 0))(inputs)\n",
    "z = keras.layers.Embedding(vocab_size + num_oov_buckets, embed_size)(inputs)\n",
    "z = keras.layers.GRU(128, return_sequences=True)(z, mask=mask)\n",
    "z = keras.layers.GRU(128)(z, mask=mask)\n",
    "outputs = keras.layers.Dense(1, 'sigmoid')(z)\n",
    "model = keras.Model(inputs=[inputs], outputs=[outputs])\n",
    "model.compile('adam', 'binary_crossentropy', ['accuracy'])\n",
    "# history = model.fit(train_set, epochs=5)\n",
    "history = model.fit(train_set, epochs=2)"
   ]
  },
  {
   "cell_type": "markdown",
   "id": "599a5ffe-1741-44d0-875f-5b4fc47c94aa",
   "metadata": {},
   "source": [
    "### **사전훈련된 임베딩 재사용하기**"
   ]
  },
  {
   "cell_type": "code",
   "execution_count": 58,
   "id": "002caabf-474b-4499-b9f9-8b8f26f87d56",
   "metadata": {
    "scrolled": true
   },
   "outputs": [],
   "source": [
    "TFHUB_CACHE_DIR = os.path.join(os.curdir, 'my_tfhub_cache')\n",
    "os.environ['TFHUB_CACHE_DIR'] = TFHUB_CACHE_DIR"
   ]
  },
  {
   "cell_type": "code",
   "execution_count": 59,
   "id": "9ef076a9-58d6-427a-802c-1a164595f8c2",
   "metadata": {
    "scrolled": true
   },
   "outputs": [
    {
     "name": "stdout",
     "output_type": "stream",
     "text": [
      "WARNING:tensorflow:Please fix your imports. Module tensorflow.python.training.tracking.data_structures has been moved to tensorflow.python.trackable.data_structures. The old module will be deleted in version 2.11.\n"
     ]
    },
    {
     "name": "stderr",
     "output_type": "stream",
     "text": [
      "WARNING:tensorflow:Please fix your imports. Module tensorflow.python.training.tracking.data_structures has been moved to tensorflow.python.trackable.data_structures. The old module will be deleted in version 2.11.\n"
     ]
    }
   ],
   "source": [
    "import tensorflow_hub as hub\n",
    "\n",
    "model = keras.Sequential(\n",
    "    [\n",
    "        hub.KerasLayer(\n",
    "            'https://tfhub.dev/google/nnlm-en-dim50/2', output_shape=[50], input_shape=[], dtype=tf.string\n",
    "        ),\n",
    "        keras.layers.Dense(128, 'relu'),\n",
    "        keras.layers.Dense(1, 'sigmoid')\n",
    "    ]\n",
    ")\n",
    "model.compile('adam', 'binary_crossentropy', ['accuracy'])"
   ]
  },
  {
   "cell_type": "code",
   "execution_count": 60,
   "id": "1b6a509b-4561-4d91-9ea2-d2a093d5f306",
   "metadata": {
    "scrolled": true,
    "tags": []
   },
   "outputs": [
    {
     "name": "stdout",
     "output_type": "stream",
     "text": [
      ".\\my_tfhub_cache\\74a841d6eb84e8d93d913d716fb5440d020cc291.descriptor.txt\n",
      ".\\my_tfhub_cache\\74a841d6eb84e8d93d913d716fb5440d020cc291\\saved_model.pb\n",
      ".\\my_tfhub_cache\\74a841d6eb84e8d93d913d716fb5440d020cc291\\assets\\tokens.txt\n",
      ".\\my_tfhub_cache\\74a841d6eb84e8d93d913d716fb5440d020cc291\\variables\\variables.data-00000-of-00001\n",
      ".\\my_tfhub_cache\\74a841d6eb84e8d93d913d716fb5440d020cc291\\variables\\variables.index\n"
     ]
    }
   ],
   "source": [
    "for dirpath, dirnames, filenames in os.walk(TFHUB_CACHE_DIR):\n",
    "    for filename in filenames:\n",
    "        print(os.path.join(dirpath, filename))"
   ]
  },
  {
   "cell_type": "code",
   "execution_count": 61,
   "id": "0b6d2a50-2eed-4893-b642-b04f8e9ba3a5",
   "metadata": {
    "scrolled": true,
    "tags": []
   },
   "outputs": [
    {
     "name": "stdout",
     "output_type": "stream",
     "text": [
      "Epoch 1/5\n",
      "782/782 [==============================] - 6s 7ms/step - loss: 0.5510 - accuracy: 0.7203\n",
      "Epoch 2/5\n",
      "782/782 [==============================] - 5s 6ms/step - loss: 0.5144 - accuracy: 0.7481\n",
      "Epoch 3/5\n",
      "782/782 [==============================] - 5s 6ms/step - loss: 0.5091 - accuracy: 0.7518\n",
      "Epoch 4/5\n",
      "782/782 [==============================] - 5s 6ms/step - loss: 0.5053 - accuracy: 0.7547\n",
      "Epoch 5/5\n",
      "782/782 [==============================] - 5s 6ms/step - loss: 0.5022 - accuracy: 0.7574\n"
     ]
    }
   ],
   "source": [
    "datasets, info = tfds.load('imdb_reviews', as_supervised=True, with_info=True)\n",
    "train_size = info.splits['train'].num_examples\n",
    "batch_size = 32\n",
    "train_set = datasets['train'].batch(batch_size).prefetch(tf.data.AUTOTUNE)\n",
    "history = model.fit(train_set, epochs=5)"
   ]
  },
  {
   "cell_type": "markdown",
   "id": "b1543478-f0b0-417b-a002-50ac96f80d6f",
   "metadata": {},
   "source": [
    "## **신경망 기계 번역을 위한 인코더-디코더 네트워크**"
   ]
  },
  {
   "cell_type": "code",
   "execution_count": 62,
   "id": "8ba5b9cb-33b7-4a14-9bf9-587336aed997",
   "metadata": {
    "scrolled": true,
    "tags": []
   },
   "outputs": [],
   "source": [
    "vocab_size = 100\n",
    "embed_size = 10"
   ]
  },
  {
   "cell_type": "code",
   "execution_count": 63,
   "id": "c27d7ddd-866d-4eee-9ca9-1414630f527b",
   "metadata": {
    "scrolled": true
   },
   "outputs": [],
   "source": [
    "import tensorflow_addons as tfa\n",
    "\n",
    "encoder_inputs = keras.Input([None], dtype=np.int32)\n",
    "decoder_inputs = keras.Input([None], dtype=np.int32)\n",
    "sequence_lengths = keras.Input([], dtype=np.int32)\n",
    "embeddings = keras.layers.Embedding(vocab_size, embed_size)\n",
    "encoder_embeddings = embeddings(encoder_inputs)\n",
    "decoder_embeddings = embeddings(decoder_inputs)\n",
    "encoder = keras.layers.LSTM(512, return_state=True)\n",
    "encoder_outputs, state_h, state_c = encoder(encoder_embeddings)\n",
    "encoder_state = [state_h, state_c]\n",
    "sampler = tfa.seq2seq.TrainingSampler()\n",
    "decoder_cell = keras.layers.LSTMCell(512)\n",
    "output_layer = keras.layers.Dense(vocab_size)\n",
    "decoder = tfa.seq2seq.BasicDecoder(decoder_cell, sampler, output_layer)\n",
    "final_outputs, final_state, final_sequence_lengths = decoder(\n",
    "    decoder_embeddings, initial_state=encoder_state, sequence_length=sequence_lengths\n",
    ")\n",
    "Y_proba = tf.nn.softmax(final_outputs.rnn_output)\n",
    "model = keras.Model(inputs=[encoder_inputs, decoder_inputs, sequence_lengths], outputs=[Y_proba])"
   ]
  },
  {
   "cell_type": "code",
   "execution_count": 64,
   "id": "629c9dbe-628c-4cf8-8f86-cf493c9d4991",
   "metadata": {
    "scrolled": true
   },
   "outputs": [],
   "source": [
    "model.compile('adam', 'sparse_categorical_crossentropy')"
   ]
  },
  {
   "cell_type": "code",
   "execution_count": 65,
   "id": "45941a10-5ec0-4bf2-a13d-6a719b59bdc3",
   "metadata": {
    "scrolled": true
   },
   "outputs": [
    {
     "name": "stdout",
     "output_type": "stream",
     "text": [
      "Epoch 1/2\n",
      "32/32 [==============================] - 5s 65ms/step - loss: 4.6054\n",
      "Epoch 2/2\n",
      "32/32 [==============================] - 2s 66ms/step - loss: 4.6035\n"
     ]
    }
   ],
   "source": [
    "X = np.random.randint(100, size=10 * 1000).reshape(1000, 10)\n",
    "Y = np.random.randint(100, size=15 * 1000).reshape(1000, 15)\n",
    "X_decoder = np.c_[np.zeros((1000, 1)), Y[:, :-1]]\n",
    "seq_lengths = np.full([1000], 15)\n",
    "history = model.fit([X, X_decoder, seq_lengths], Y, epochs=2)"
   ]
  },
  {
   "cell_type": "markdown",
   "id": "596ccf69-5a9f-4613-ad24-7a9c097a9245",
   "metadata": {
    "tags": []
   },
   "source": [
    "### **양방향 RNN**"
   ]
  },
  {
   "cell_type": "code",
   "execution_count": 66,
   "id": "eb9f27b5-6a5f-4b2a-a5f4-287eb5344a1f",
   "metadata": {
    "scrolled": true
   },
   "outputs": [
    {
     "name": "stdout",
     "output_type": "stream",
     "text": [
      "Model: \"sequential_5\"\n",
      "_________________________________________________________________\n",
      " Layer (type)                Output Shape              Param #   \n",
      "=================================================================\n",
      " gru_10 (GRU)                (None, None, 10)          660       \n",
      "                                                                 \n",
      " bidirectional (Bidirectiona  (None, None, 20)         1320      \n",
      " l)                                                              \n",
      "                                                                 \n",
      "=================================================================\n",
      "Total params: 1,980\n",
      "Trainable params: 1,980\n",
      "Non-trainable params: 0\n",
      "_________________________________________________________________\n"
     ]
    }
   ],
   "source": [
    "model = keras.Sequential(\n",
    "    [\n",
    "        keras.layers.GRU(10, return_sequences=True, input_shape=[None, 10]),\n",
    "        keras.layers.Bidirectional(keras.layers.GRU(10, return_sequences=True))\n",
    "    ]\n",
    ")\n",
    "model.summary()"
   ]
  },
  {
   "cell_type": "markdown",
   "id": "c1a6fef8-163e-4d40-9557-b8463ef1eb4b",
   "metadata": {
    "tags": []
   },
   "source": [
    "## **어텐션 메커니즘**"
   ]
  },
  {
   "cell_type": "markdown",
   "id": "607a0aa5-22bb-4cce-987e-33dc557b8271",
   "metadata": {},
   "source": [
    "### **트랜스포머 구조: 어텐션이 필요한 전부다**"
   ]
  },
  {
   "cell_type": "markdown",
   "id": "fcc6c5d0-5a6b-47c0-8944-cee22cd0e4ee",
   "metadata": {},
   "source": [
    "**위치 인코딩**"
   ]
  },
  {
   "cell_type": "code",
   "execution_count": 67,
   "id": "401b88f4-bdbd-42c9-9a73-af70f76c034f",
   "metadata": {
    "scrolled": true
   },
   "outputs": [],
   "source": [
    "class PositionalEncoding(keras.layers.Layer):\n",
    "    def __init__(self, max_steps, max_dims, dtype=tf.float32, **kwargs):\n",
    "        super().__init__(dtype=dtype, **kwargs)\n",
    "        if max_dims % 2 == 1: max_dims += 1  # max_dims는 짝수여야 한다.\n",
    "        p, i = np.meshgrid(np.arange(max_steps), np.arange(max_dims // 2))\n",
    "        pos_emb = np.empty((1, max_steps, max_dims))\n",
    "        pos_emb[0, :, ::2] = np.sin(p / 10000 ** (2 * i / max_dims)).T\n",
    "        pos_emb[0, :, 1::2] = np.cos(p / 10000 ** (2 * i / max_dims)).T\n",
    "        self.positional_embedding = tf.constant(pos_emb.astype(self.dtype))\n",
    "\n",
    "    def call(self, inputs):\n",
    "        shape = tf.shape(inputs)\n",
    "        return inputs + self.positional_embedding[:, :shape[-2], :shape[-1]]"
   ]
  },
  {
   "cell_type": "code",
   "execution_count": 68,
   "id": "29fb4d36-e8c6-4d07-9133-2d735085d03c",
   "metadata": {
    "scrolled": true,
    "tags": []
   },
   "outputs": [],
   "source": [
    "max_steps = 201\n",
    "max_dims = 512\n",
    "pos_emb = PositionalEncoding(max_steps, max_dims)\n",
    "PE = pos_emb(np.zeros((1, max_steps, max_dims), np.float32))[0].numpy()"
   ]
  },
  {
   "cell_type": "code",
   "execution_count": 69,
   "id": "f5c06032-fe07-4697-831d-d99ec4abfe95",
   "metadata": {
    "scrolled": true
   },
   "outputs": [
    {
     "name": "stdout",
     "output_type": "stream",
     "text": [
      "그림 저장 positional_embedding_plot\n"
     ]
    },
    {
     "data": {
      "image/png": "[encoded data removed]",
      "text/plain": [
       "<Figure size 900x500 with 2 Axes>"
      ]
     },
     "metadata": {},
     "output_type": "display_data"
    }
   ],
   "source": [
    "i1, i2, crop_i = 100, 101, 150\n",
    "p1, p2, p3 = 22, 60, 35\n",
    "fig, (ax1, ax2) = plt.subplots(2, 1, sharex=True, figsize=(9, 5))\n",
    "ax1.plot([p1, p1], [-1, 1], 'k--', label=f'$p = {p1}$')\n",
    "ax1.plot([p2, p2], [-1, 1], 'k--', label=f'$p = {p2}$', alpha=0.5)\n",
    "ax1.plot(p3, PE[p3, i1], 'bx', label=f'$p = {p3}$')\n",
    "ax1.plot(PE[:, i1], 'b-', label=f'$i = {i1}$')\n",
    "ax1.plot(PE[:, i2], 'r-', label=f'$i = {i2}$')\n",
    "ax1.plot([p1, p2], [PE[p1, i1], PE[p2, i1]], 'bo')\n",
    "ax1.plot([p1, p2], [PE[p1, i2], PE[p2, i2]], 'ro')\n",
    "ax1.legend(loc='center right', fontsize=14, framealpha=0.95)\n",
    "ax1.set_ylabel('$P_{(p,i)}$', rotation=0, fontsize=16)\n",
    "ax1.grid(True, alpha=0.3)\n",
    "ax1.hlines(0, 0, max_steps - 1, color='k', linewidth=1, alpha=0.3)\n",
    "ax1.axis([0, max_steps - 1, -1, 1])\n",
    "ax2.imshow(PE.T[:crop_i], 'gray', aspect='auto', interpolation='bilinear')\n",
    "ax2.hlines(i1, 0, max_steps - 1, color='b')\n",
    "cheat = 2  # 빨간색 선을 약간 올려야 한다. 그렇지 않으면 파란색 선이 숨겨진다.\n",
    "ax2.hlines(i2 + cheat, 0, max_steps - 1, color='r')\n",
    "ax2.plot([p1, p1], [0, crop_i], 'k--')\n",
    "ax2.plot([p2, p2], [0, crop_i], 'k--', alpha=0.5)\n",
    "ax2.plot([p1, p2], [i2 + cheat, i2 + cheat], 'ro')\n",
    "ax2.plot([p1, p2], [i1, i1], 'bo')\n",
    "ax2.axis([0, max_steps - 1, 0, crop_i])\n",
    "ax2.set_xlabel('$p$', fontsize=16)\n",
    "ax2.set_ylabel('$i$', rotation=0, fontsize=16)\n",
    "save_fig('positional_embedding_plot')\n",
    "plt.show()"
   ]
  },
  {
   "cell_type": "code",
   "execution_count": 70,
   "id": "36540b7d-7709-4aa8-ac70-a1f702e63bb2",
   "metadata": {
    "scrolled": true
   },
   "outputs": [],
   "source": [
    "embed_size = 512\n",
    "max_steps = 500\n",
    "vocab_size = 10000\n",
    "encoder_inputs = keras.Input([None], dtype=np.int32)\n",
    "decoder_inputs = keras.Input([None], dtype=np.int32)\n",
    "embeddings = keras.layers.Embedding(vocab_size, embed_size)\n",
    "encoder_embeddings = embeddings(encoder_inputs)\n",
    "decoder_embeddings = embeddings(decoder_inputs)\n",
    "positional_encoding = PositionalEncoding(max_steps, embed_size)\n",
    "encoder_in = positional_encoding(encoder_embeddings)\n",
    "decoder_in = positional_encoding(decoder_embeddings)"
   ]
  },
  {
   "cell_type": "markdown",
   "id": "5e7cb399-6eb5-4ee3-8cfe-e64b4a5a937e",
   "metadata": {},
   "source": [
    "**멀티-헤드 어텐션**"
   ]
  },
  {
   "cell_type": "markdown",
   "id": "e27eb6b2-7783-4b34-b7a5-3bc1cf9c584a",
   "metadata": {},
   "source": [
    "다음은 (매우) 간소화한 Transformer이다(실제 구조는 스킵 연결, 층 정규화, 밀집 층 그리고 가장 중요하게 일반적인 어텐션이 아니라 멀티-헤드 어텐션을 가진다):"
   ]
  },
  {
   "cell_type": "code",
   "execution_count": 71,
   "id": "b9735dc0-ac03-46c8-bad8-3707e3ebb73d",
   "metadata": {
    "scrolled": true
   },
   "outputs": [],
   "source": [
    "Z = encoder_in\n",
    "for _ in range(6):\n",
    "    Z = keras.layers.Attention(True)([Z, Z])\n",
    "encoder_outputs = Z\n",
    "Z = decoder_in\n",
    "for _ in range(6):\n",
    "    Z = keras.layers.Attention(True)([Z, Z], use_causal_mask=True)\n",
    "    Z = keras.layers.Attention(True)([Z, encoder_outputs])\n",
    "outputs = keras.layers.TimeDistributed(keras.layers.Dense(vocab_size, 'softmax'))(Z)"
   ]
  },
  {
   "cell_type": "markdown",
   "id": "fbdbebca-760e-4ab6-b30c-2586a7cab829",
   "metadata": {},
   "source": [
    "다음은 기본적인 `MultiHeadAttention` 층의 구현이다. `kernel_size=1`인 (그리고 기본값 `padding='valid'`, `strides=1`을 사용하는) `Conv1D` 층은 `TimeDistributed(Dense(...))`과 같다."
   ]
  },
  {
   "cell_type": "code",
   "execution_count": 72,
   "id": "788f6c43-af57-4f94-aae2-2368264b1d8a",
   "metadata": {
    "scrolled": true
   },
   "outputs": [],
   "source": [
    "K = keras.backend\n",
    "\n",
    "\n",
    "class MultiHeadAttention(keras.layers.Layer):\n",
    "    def __init__(self, n_heads, use_scale=False, **kwargs):\n",
    "        self.dims = self.q_dims = self.v_dims = self.k_dims = self.q_linear = self.v_linear = self.k_linear = self. \\\n",
    "            attention = self.out_linear = None\n",
    "        self.n_heads = n_heads\n",
    "        self.use_scale = use_scale\n",
    "        super().__init__(**kwargs)\n",
    "\n",
    "    def build(self, batch_input_shape):\n",
    "        self.dims = batch_input_shape[0][-1]\n",
    "        self.q_dims, self.v_dims, self.k_dims = [self.dims // self.n_heads] * 3  # 대신 하이퍼파라미터가 될 수 있다.\n",
    "        self.q_linear = keras.layers.Conv1D(self.n_heads * self.q_dims, 1, use_bias=False)\n",
    "        self.v_linear = keras.layers.Conv1D(self.n_heads * self.v_dims, 1, use_bias=False)\n",
    "        self.k_linear = keras.layers.Conv1D(self.n_heads * self.k_dims, 1, use_bias=False)\n",
    "        self.attention = keras.layers.Attention(use_scale=self.use_scale)\n",
    "        self.out_linear = keras.layers.Conv1D(self.dims, 1, use_bias=False)\n",
    "        super().build(batch_input_shape)\n",
    "\n",
    "    def _multi_head_linear(self, inputs, linear):\n",
    "        shape = K.concatenate([K.shape(inputs)[:-1], [self.n_heads, -1]])\n",
    "        projected = K.reshape(linear(inputs), shape)\n",
    "        perm = K.permute_dimensions(projected, [0, 2, 1, 3])\n",
    "        return K.reshape(perm, [shape[0] * self.n_heads, shape[1], -1])\n",
    "\n",
    "    def call(self, inputs, use_causal_mask=False):\n",
    "        q = inputs[0]\n",
    "        v = inputs[1]\n",
    "        k = inputs[2] if len(inputs) > 2 else v\n",
    "        shape = K.shape(q)\n",
    "        q_proj = self._multi_head_linear(q, self.q_linear)\n",
    "        v_proj = self._multi_head_linear(v, self.v_linear)\n",
    "        k_proj = self._multi_head_linear(k, self.k_linear)\n",
    "        multi_attended = self.attention([q_proj, v_proj, k_proj], use_causal_mask=use_causal_mask)\n",
    "        shape_attended = K.shape(multi_attended)\n",
    "        reshaped_attended = K.reshape(multi_attended, [shape[0], self.n_heads, shape_attended[1], shape_attended[2]])\n",
    "        perm = K.permute_dimensions(reshaped_attended, [0, 2, 1, 3])\n",
    "        concat = K.reshape(perm, [shape[0], shape_attended[1], -1])\n",
    "        return self.out_linear(concat)"
   ]
  },
  {
   "cell_type": "code",
   "execution_count": 73,
   "id": "b777b7b8-f3ae-4ae1-9f46-4cd51ce7423f",
   "metadata": {
    "scrolled": true,
    "tags": []
   },
   "outputs": [
    {
     "data": {
      "text/plain": [
       "TensorShape([2, 50, 512])"
      ]
     },
     "execution_count": 73,
     "metadata": {},
     "output_type": "execute_result"
    }
   ],
   "source": [
    "Q = np.random.rand(2, 50, 512)\n",
    "V = np.random.rand(2, 80, 512)\n",
    "multi_attn = MultiHeadAttention(8)\n",
    "multi_attn([Q, V]).shape\n",
    "# multi_attn = keras.layers.MultiHeadAttention(8, 64)\n",
    "# multi_attn(Q, V).shape"
   ]
  },
  {
   "cell_type": "markdown",
   "id": "26b20fe9-3c89-4d17-9c79-21a3202b28e9",
   "metadata": {},
   "source": [
    "## **연습**"
   ]
  },
  {
   "cell_type": "markdown",
   "id": "9274f42d-8963-4c55-99a1-081bf307d5ce",
   "metadata": {
    "tags": []
   },
   "source": [
    "### **1.**\n",
    "\n",
    "호크라이터와 슈미트후버는 LSTM에 관한 [논문](https://scholar.google.com/scholar?q=Long+Short-Term+Memory+author%3ASchmidhuber)에서 임베딩된 레버 문법을 사용했다. 이는 ‘BPBTSXXVPSEPE’와 같은 문자열을 만드는 인공 문법이다. 이 주제에 대한 제니 오어의 훌륭한 [소개](https://www.willamette.edu/~gorr/classes/cs449/reber.html)를 확인한다. 특정 임베딩된 레버 문법 하나를 선택하고(제니 오어의 페이지에 있는 것과 같은), 그다음에 문자열이 이 문법을 따르는지 아닌지 구별하는 RNN을 훈련한다. 먼저 문법에 맞는 문자열 50%와 그렇지 않은 문자열 50%를 담은 훈련 배치를 생성하는 함수를 만든다."
   ]
  },
  {
   "cell_type": "markdown",
   "id": "68f787e4-1360-4d0b-8823-de3228ec60f8",
   "metadata": {},
   "source": [
    "먼저 문법에 맞는 문자열을 생성하는 함수가 필요하다. 이 문법은 각 상태에서 가능한 전이 상태의 리스트이다. 하나의 전이는 출력할 문자열(또는 생성할 문법)과 다음 상태를 지정한다."
   ]
  },
  {
   "cell_type": "code",
   "execution_count": 74,
   "id": "67c50e91-506d-4baf-9e4f-51335d4c0968",
   "metadata": {
    "scrolled": true
   },
   "outputs": [],
   "source": [
    "default_reber_grammar = [\n",
    "    [('B', 1)],\n",
    "    [('T', 2), ('P', 3)],\n",
    "    [('S', 2), ('X', 4)],\n",
    "    [('T', 3), ('V', 5)],\n",
    "    [('X', 3), ('S', 6)],\n",
    "    [('P', 4), ('V', 6)],\n",
    "    [('E', None)]\n",
    "]\n",
    "\n",
    "embedded_reber_grammar = [\n",
    "    [('B', 1)],\n",
    "    [('T', 2), ('P', 3)],\n",
    "    [(default_reber_grammar, 4)],\n",
    "    [(default_reber_grammar, 5)],\n",
    "    [('T', 6)],\n",
    "    [('P', 6)],\n",
    "    [('E', None)]\n",
    "]\n",
    "\n",
    "\n",
    "def generate_string(grammar):\n",
    "    state = 0\n",
    "    output = []\n",
    "    while state is not None:\n",
    "        index = np.random.randint(len(grammar[state]))\n",
    "        production, state = grammar[state][index]\n",
    "        if isinstance(production, list):\n",
    "            production = generate_string(production)\n",
    "        output.append(production)\n",
    "    return ''.join(output)"
   ]
  },
  {
   "cell_type": "markdown",
   "id": "47b335f8-9902-4c1d-976e-3834b5f91720",
   "metadata": {},
   "source": [
    "기본 레버 문법에 맞는 문자열을 몇 개 만든다:"
   ]
  },
  {
   "cell_type": "code",
   "execution_count": 75,
   "id": "a94fd0b9-c452-4ed6-9bb3-bbabe0ee791b",
   "metadata": {
    "scrolled": true
   },
   "outputs": [
    {
     "name": "stdout",
     "output_type": "stream",
     "text": [
      "BTXXVPXVPSE BTSSXXTVPSE BPTTVPSE BPTTTVPSE BPTVPSE BTXXVPSE BTSXXVVE BTXSE BPVPXTVVE BTXSE BTXSE BTSXSE BTXSE BTSXSE BPVVE BPVPXVVE BPTVPXTVVE BPTVVE BPTTVVE BPVPXVPSE BPTVPXVPXTVPSE BTXXVPSE BTXSE BTXXTTTVPXTVVE BPVPSE "
     ]
    }
   ],
   "source": [
    "for _ in range(25):\n",
    "    print(generate_string(default_reber_grammar), end=' ')"
   ]
  },
  {
   "cell_type": "markdown",
   "id": "60bb0971-3cb3-439c-ac02-041382a4f09d",
   "metadata": {},
   "source": [
    "이제 임베딩된 레버 문법에 맞는 문자열을 몇 개 만든다:"
   ]
  },
  {
   "cell_type": "code",
   "execution_count": 76,
   "id": "2760843d-41e6-4526-8a0a-bf8428e99f27",
   "metadata": {
    "scrolled": true
   },
   "outputs": [
    {
     "name": "stdout",
     "output_type": "stream",
     "text": [
      "BPBPVPSEPE BTBTXSETE BPBPVPSEPE BTBPVVETE BPBPVVEPE BPBPVVEPE BTBPVPXVVETE BPBPVPSEPE BTBPVPXTTTVPXTVVETE BTBTSSXXTVVETE BPBPVPXTVVEPE BTBTXXVVETE BPBPVVEPE BTBTSXXTTTVVETE BTBPTVPSETE BPBTSXSEPE BPBPVPXTVPSEPE BTBPVVETE BTBTXSETE BPBPVVEPE BTBTXSETE BTBPVPSETE BPBTSXXTTTVVEPE BTBPTTVPSETE BPBTXSEPE "
     ]
    }
   ],
   "source": [
    "for _ in range(25):\n",
    "    print(generate_string(embedded_reber_grammar), end=' ')"
   ]
  },
  {
   "cell_type": "markdown",
   "id": "59de4e56-ec31-407a-bbf1-a079697b8bb9",
   "metadata": {},
   "source": [
    "이제 이 문법을 따르지 않는 문자열을 생성할 함수를 만든다. 무작위하게 문자열을 만들 수 있지만 그렇게 하면 너무 문제가 쉬워지므로 대신 문법을 따르는 문자열을 만든 후 하나의 문자만 바꾼다:"
   ]
  },
  {
   "cell_type": "code",
   "execution_count": 77,
   "id": "87f65e8c-6f11-4d58-959e-cb0874a9550d",
   "metadata": {
    "scrolled": true
   },
   "outputs": [],
   "source": [
    "POSSIBLE_CHARS = 'BEPSTVX'\n",
    "\n",
    "\n",
    "def generate_corrupted_string(grammar, chars=POSSIBLE_CHARS):\n",
    "    good_string = generate_string(grammar)\n",
    "    index = np.random.randint(len(good_string))\n",
    "    good_char = good_string[index]\n",
    "    bad_char = np.random.choice(sorted(set(chars) - set(good_char)))\n",
    "    return good_string[:index] + bad_char + good_string[index + 1:]"
   ]
  },
  {
   "cell_type": "markdown",
   "id": "e1c73a44-1d62-4d42-a087-e1ab53c44e84",
   "metadata": {},
   "source": [
    "잘못된 문자열 몇 개를 만든다:"
   ]
  },
  {
   "cell_type": "code",
   "execution_count": 78,
   "id": "0d99abd7-8351-40b8-b0f7-b936e51c2bed",
   "metadata": {
    "scrolled": true
   },
   "outputs": [
    {
     "name": "stdout",
     "output_type": "stream",
     "text": [
      "BTBTSXXVBXVPSETE BTBTXXTVXSETE BPBTXSTVPSEPE BTBTXXTTVPSETB BTXTSXXVVETE BPBTXXTVVSPE BTEPVPXVVETE BTBTSXSEPE BTBPVVETB BBBTXSETE BVBPVVEPE BTBESXSETE BTBPXTTVPXTTVPSETE BTBPTVPXTVPSBTE BTBTXXVVXTE VTBPVVETE BTBPVVEEE BTBPVPXTVPSXTE BPBBVVEPE BTBTSXXVVPTE BTXPVVETE STBPTTTTTVVETE BPBSSSSSXSEPE TPBPVPSEPE BTBPVVEBE "
     ]
    }
   ],
   "source": [
    "for _ in range(25):\n",
    "    print(generate_corrupted_string(embedded_reber_grammar), end=' ')"
   ]
  },
  {
   "cell_type": "markdown",
   "id": "6498a842-a1a9-4aae-a2a0-e2a5fbb20334",
   "metadata": {},
   "source": [
    "문자열을 바로 RNN에 주입할 수는 없기 때문에 어떤 식으로든 인코딩해야 한다. 한 가지 방법은 각 문자를 원-핫 인코딩하는 것이다. 또 다른 방식은 임베딩을 사용하는 것이다. 두 번째 방법을 사용해 본다(문자 개수가 작다면 원-핫 인코딩도 좋은 선택이다). 임베딩을 위해 각 문자열을 문자 ID의 시퀀스로 바꾼다. POSSIBLE_CHARS의 문자열 인덱스를 사용해 이런 작업을 수행하는 함수를 만든다:"
   ]
  },
  {
   "cell_type": "code",
   "execution_count": 79,
   "id": "c7eb3ae7-97b6-4f8b-9d98-e701828e2596",
   "metadata": {
    "scrolled": true
   },
   "outputs": [],
   "source": [
    "def string_to_ids(s, chars=POSSIBLE_CHARS):\n",
    "    return [chars.index(c) for c in s]"
   ]
  },
  {
   "cell_type": "code",
   "execution_count": 80,
   "id": "9c91e161-0a8c-4553-b96d-e2bd267b4b0f",
   "metadata": {
    "scrolled": true
   },
   "outputs": [
    {
     "data": {
      "text/plain": [
       "[0, 4, 4, 4, 6, 6, 5, 5, 1, 4, 1]"
      ]
     },
     "execution_count": 80,
     "metadata": {},
     "output_type": "execute_result"
    }
   ],
   "source": [
    "string_to_ids('BTTTXXVVETE')"
   ]
  },
  {
   "cell_type": "markdown",
   "id": "09fedd53-22b4-4649-b318-e564c4ddad0c",
   "metadata": {},
   "source": [
    "이제 50%는 올바른 문자열 50%는 잘못된 문자열로 이루어진 데이터셋을 만든다:"
   ]
  },
  {
   "cell_type": "code",
   "execution_count": 81,
   "id": "a99c64c6-eede-4a22-9e9a-b671cf4c8cd7",
   "metadata": {
    "scrolled": true
   },
   "outputs": [],
   "source": [
    "def generate_dataset(size):\n",
    "    good_strings = [string_to_ids(generate_string(embedded_reber_grammar)) for _ in range(size // 2)]\n",
    "    bad_strings = [string_to_ids(generate_corrupted_string(embedded_reber_grammar)) for _ in range(size - size // 2)]\n",
    "    all_strings = good_strings + bad_strings\n",
    "    X = tf.ragged.constant(all_strings, ragged_rank=1)\n",
    "    y = np.array([[1.] for _ in range(len(good_strings))] + [[0.] for _ in range(len(bad_strings))])\n",
    "    return X, y"
   ]
  },
  {
   "cell_type": "code",
   "execution_count": 82,
   "id": "da855d48-cc5b-4942-9d5d-50b9da1398c6",
   "metadata": {
    "scrolled": true
   },
   "outputs": [],
   "source": [
    "X_train, y_train = generate_dataset(10000)\n",
    "X_valid, y_valid = generate_dataset(2000)"
   ]
  },
  {
   "cell_type": "markdown",
   "id": "fca6105e-a1e2-4298-b06e-899c0dd7adfc",
   "metadata": {},
   "source": [
    "첫 번째 훈련 샘플을 확인해 본다:"
   ]
  },
  {
   "cell_type": "code",
   "execution_count": 83,
   "id": "c00f8a9a-8720-48dd-b0e4-31b18847179c",
   "metadata": {
    "scrolled": true,
    "tags": []
   },
   "outputs": [
    {
     "data": {
      "text/plain": [
       "<tf.Tensor: shape=(19,), dtype=int32, numpy=array([0, 2, 0, 2, 4, 4, 4, 4, 4, 4, 4, 4, 4, 5, 2, 3, 1, 2, 1])>"
      ]
     },
     "execution_count": 83,
     "metadata": {},
     "output_type": "execute_result"
    }
   ],
   "source": [
    "X_train[0]"
   ]
  },
  {
   "cell_type": "markdown",
   "id": "0e071709-b807-42c8-bdad-6cbc0f2b69da",
   "metadata": {},
   "source": [
    "어떤 클래스에 속할까?"
   ]
  },
  {
   "cell_type": "code",
   "execution_count": 84,
   "id": "7ac2059c-32a9-4b4a-b3bc-752dd43bb076",
   "metadata": {
    "scrolled": true,
    "tags": []
   },
   "outputs": [
    {
     "data": {
      "text/plain": [
       "array([1.])"
      ]
     },
     "execution_count": 84,
     "metadata": {},
     "output_type": "execute_result"
    }
   ],
   "source": [
    "y_train[0]"
   ]
  },
  {
   "cell_type": "markdown",
   "id": "aea46809-6184-425e-809a-6a4136da054c",
   "metadata": {},
   "source": [
    "이제 올바른 문자열을 구분할 RNN을 만들 준비가 되었다. 간단한 시퀀스 이진 분류기를 만든다:"
   ]
  },
  {
   "cell_type": "code",
   "execution_count": 85,
   "id": "e4c963d2-adcf-4823-951e-1b4605a64a15",
   "metadata": {
    "scrolled": true,
    "tags": []
   },
   "outputs": [
    {
     "name": "stdout",
     "output_type": "stream",
     "text": [
      "Epoch 1/17\n"
     ]
    },
    {
     "name": "stderr",
     "output_type": "stream",
     "text": [
      "C:\\Users\\kyun\\AppData\\Local\\Programs\\Python\\Python310\\lib\\site-packages\\tensorflow\\python\\framework\\indexed_slices.py:444: UserWarning: Converting sparse IndexedSlices(IndexedSlices(indices=Tensor(\"gradient_tape/sequential_6/gru_12/RaggedToTensor/boolean_mask_1/GatherV2:0\", shape=(None,), dtype=int32), values=Tensor(\"gradient_tape/sequential_6/gru_12/RaggedToTensor/boolean_mask/GatherV2:0\", shape=(None, 5), dtype=float32), dense_shape=Tensor(\"gradient_tape/sequential_6/gru_12/RaggedToTensor/Shape:0\", shape=(2,), dtype=int32))) to a dense Tensor of unknown shape. This may consume a large amount of memory.\n",
      "  warnings.warn(\n"
     ]
    },
    {
     "name": "stdout",
     "output_type": "stream",
     "text": [
      "313/313 [==============================] - 5s 12ms/step - loss: 0.6936 - accuracy: 0.4995 - val_loss: 0.6880 - val_accuracy: 0.5410\n",
      "Epoch 2/17\n",
      "313/313 [==============================] - 3s 10ms/step - loss: 0.6740 - accuracy: 0.5542 - val_loss: 0.6731 - val_accuracy: 0.5890\n",
      "Epoch 3/17\n",
      "313/313 [==============================] - 3s 10ms/step - loss: 0.6528 - accuracy: 0.5770 - val_loss: 0.6529 - val_accuracy: 0.6140\n",
      "Epoch 4/17\n",
      "313/313 [==============================] - 3s 10ms/step - loss: 0.6387 - accuracy: 0.5887 - val_loss: 0.6252 - val_accuracy: 0.6425\n",
      "Epoch 5/17\n",
      "313/313 [==============================] - 3s 10ms/step - loss: 0.6035 - accuracy: 0.6413 - val_loss: 0.5745 - val_accuracy: 0.6590\n",
      "Epoch 6/17\n",
      "313/313 [==============================] - 3s 10ms/step - loss: 0.5177 - accuracy: 0.7273 - val_loss: 0.4152 - val_accuracy: 0.8170\n",
      "Epoch 7/17\n",
      "313/313 [==============================] - 3s 10ms/step - loss: 0.3079 - accuracy: 0.8785 - val_loss: 0.2172 - val_accuracy: 0.9270\n",
      "Epoch 8/17\n",
      "313/313 [==============================] - 3s 10ms/step - loss: 0.2173 - accuracy: 0.9227 - val_loss: 0.2371 - val_accuracy: 0.9075\n",
      "Epoch 9/17\n",
      "313/313 [==============================] - 3s 10ms/step - loss: 0.1753 - accuracy: 0.9476 - val_loss: 0.1369 - val_accuracy: 0.9580\n",
      "Epoch 10/17\n",
      "313/313 [==============================] - 3s 10ms/step - loss: 0.4078 - accuracy: 0.8097 - val_loss: 0.1933 - val_accuracy: 0.9350\n",
      "Epoch 11/17\n",
      "313/313 [==============================] - 3s 10ms/step - loss: 0.1492 - accuracy: 0.9565 - val_loss: 0.1274 - val_accuracy: 0.9625\n",
      "Epoch 12/17\n",
      "313/313 [==============================] - 3s 10ms/step - loss: 0.1026 - accuracy: 0.9757 - val_loss: 0.1091 - val_accuracy: 0.9680\n",
      "Epoch 13/17\n",
      "313/313 [==============================] - 3s 11ms/step - loss: 0.1040 - accuracy: 0.9723 - val_loss: 0.0802 - val_accuracy: 0.9810\n",
      "Epoch 14/17\n",
      "313/313 [==============================] - 3s 10ms/step - loss: 0.0403 - accuracy: 0.9921 - val_loss: 0.0429 - val_accuracy: 0.9910\n",
      "Epoch 15/17\n",
      "313/313 [==============================] - 3s 10ms/step - loss: 0.0192 - accuracy: 0.9966 - val_loss: 0.0129 - val_accuracy: 0.9960\n",
      "Epoch 16/17\n",
      "313/313 [==============================] - 3s 10ms/step - loss: 0.0070 - accuracy: 0.9981 - val_loss: 0.0020 - val_accuracy: 1.0000\n",
      "Epoch 17/17\n",
      "313/313 [==============================] - 3s 10ms/step - loss: 9.8475e-04 - accuracy: 1.0000 - val_loss: 9.0590e-04 - val_accuracy: 1.0000\n"
     ]
    }
   ],
   "source": [
    "embedding_size = 5\n",
    "model = keras.Sequential(\n",
    "    [\n",
    "        keras.layers.InputLayer([None], dtype=tf.int32, ragged=True),\n",
    "        keras.layers.Embedding(len(POSSIBLE_CHARS), embedding_size),\n",
    "        keras.layers.GRU(30),\n",
    "        keras.layers.Dense(1, 'sigmoid')\n",
    "    ]\n",
    ")\n",
    "optimizer = keras.optimizers.legacy.SGD(0.02, 0.95, True)\n",
    "model.compile(optimizer, 'binary_crossentropy', ['accuracy'])\n",
    "# history = model.fit(X_train, y_train, epochs=20, validation_data=(X_valid, y_valid))\n",
    "history = model.fit(X_train, y_train, epochs=17, validation_data=(X_valid, y_valid))"
   ]
  },
  {
   "cell_type": "markdown",
   "id": "7f306669-e39f-4b8c-8a66-664b94d448d7",
   "metadata": {},
   "source": [
    "이제 두 개의 까다로운 문자열로 이 RNN을 테스트해 본다: 첫 번째는 잘못된 것이고 두 번째는 올바른 것이다. 이 문자열은 마지막에서 두 번째 글자만 다룬다. RNN이 이를 맞춘다면 두 번째 문자가 항상 끝에서 두 번째 문자와 같아야 한다는 패턴을 알게 됐다는 것을 의미한다. 이렇게 하려면 꽤 긴 단기 기억(long short-term memory)이 필요하다(그래서 GRU 셀을 사용했다)."
   ]
  },
  {
   "cell_type": "code",
   "execution_count": 86,
   "id": "d5eff1a6-03db-4b9d-8ac8-9e67536f3848",
   "metadata": {
    "scrolled": true,
    "tags": []
   },
   "outputs": [
    {
     "name": "stdout",
     "output_type": "stream",
     "text": [
      "1/1 [==============================] - 0s 318ms/step\n",
      "\n",
      "레버 문자열일 추정 확률:\n",
      "BPBTSSSSSSSXXTTVPXVPXTTTTTVVETE: 0.76%\n",
      "BPBTSSSSSSSXXTTVPXVPXTTTTTVVEPE: 99.92%\n"
     ]
    }
   ],
   "source": [
    "test_strings = ['BPBTSSSSSSSXXTTVPXVPXTTTTTVVETE', 'BPBTSSSSSSSXXTTVPXVPXTTTTTVVEPE']\n",
    "X_test = tf.ragged.constant([string_to_ids(s) for s in test_strings], ragged_rank=1)\n",
    "y_proba = model.predict(X_test)\n",
    "print('\\n레버 문자열일 추정 확률:')\n",
    "for index, string in enumerate(test_strings):\n",
    "    print(f'{string}: {100 * y_proba[index][0]:.2f}%')"
   ]
  },
  {
   "cell_type": "markdown",
   "id": "2f2bf9ad-84c9-446c-8bec-b15b9e270b63",
   "metadata": {},
   "source": [
    "잘 작동한다. 이 RNN이 높은 신뢰도로 정확한 답을 냈다."
   ]
  },
  {
   "cell_type": "markdown",
   "id": "b37af068-db40-475f-923f-1aaf3b99ff6e",
   "metadata": {},
   "source": [
    "### **2.**\n",
    "\n",
    "날짜 문자열 포맷을 변환하는 인코더-디코더 모델을 훈련한다(예를 들어, ‘April 22, 2019’에서 ‘2019-04-22’로 바꾼다)."
   ]
  },
  {
   "cell_type": "markdown",
   "id": "c078b9d5-f2ff-4a03-b5a9-819ba6fce02b",
   "metadata": {},
   "source": [
    "먼저 데이터셋을 만든다. 1000-01-01 ~ 9999-12-31 사이의 랜덤한 날짜를 사용하겠다:"
   ]
  },
  {
   "cell_type": "code",
   "execution_count": 87,
   "id": "08145341-80f3-4f64-9b07-d6929c576adf",
   "metadata": {
    "scrolled": true
   },
   "outputs": [],
   "source": [
    "from datetime import date\n",
    "\n",
    "# strftime()의 %B 포맷은 로케일에 의존하기 때문에 사용할 수 없다.\n",
    "MONTHS = [\n",
    "    'January',\n",
    "    'February',\n",
    "    'March',\n",
    "    'April',\n",
    "    'May',\n",
    "    'June',\n",
    "    'July',\n",
    "    'August',\n",
    "    'September',\n",
    "    'October',\n",
    "    'November',\n",
    "    'December'\n",
    "]\n",
    "\n",
    "\n",
    "def random_dates(n_dates):\n",
    "    min_date = date(1000, 1, 1).toordinal()\n",
    "    max_date = date(9999, 12, 31).toordinal()\n",
    "    ordinals = np.random.randint(max_date - min_date, size=n_dates) + min_date\n",
    "    dates = [date.fromordinal(ordinal) for ordinal in ordinals]\n",
    "    x = [f'{MONTHS[dt.month - 1]}  {dt.strftime(\"%d, %Y\")}' for dt in dates]\n",
    "    y = [dt.isoformat() for dt in dates]\n",
    "    return x, y"
   ]
  },
  {
   "cell_type": "code",
   "execution_count": 88,
   "id": "9aa8fcd9-38ce-4168-a9c7-9c106b685419",
   "metadata": {
    "scrolled": true
   },
   "outputs": [
    {
     "name": "stdout",
     "output_type": "stream",
     "text": [
      "Input                    Target                   \n",
      "--------------------------------------------------\n",
      "April  23, 4616          4616-04-23               \n",
      "March  19, 9537          9537-03-19               \n",
      "February  14, 7989       7989-02-14               \n"
     ]
    }
   ],
   "source": [
    "n_dates = 3\n",
    "x_example, y_example = random_dates(n_dates)\n",
    "print(f'{\"Input\":25s}{\"Target\":25s}\\n{\"-\" * 50}')\n",
    "for x, y in zip(x_example, y_example):\n",
    "    print(f'{x:25s}{y:25s}')"
   ]
  },
  {
   "cell_type": "markdown",
   "id": "70d1a6e5-fc57-4773-b165-76671f7f4989",
   "metadata": {},
   "source": [
    "입력에 가능한 전체 문자를 나열한다:"
   ]
  },
  {
   "cell_type": "code",
   "execution_count": 89,
   "id": "0b8801b1-b245-4b29-90e2-5d810b373937",
   "metadata": {
    "scrolled": true
   },
   "outputs": [
    {
     "data": {
      "text/plain": [
       "' ,0123456789ADFJMNOSabceghilmnoprstuvy'"
      ]
     },
     "execution_count": 89,
     "metadata": {},
     "output_type": "execute_result"
    }
   ],
   "source": [
    "INPUT_CHARS = ''.join(sorted(set(f'{\"\".join(MONTHS)}0123456789, ')))\n",
    "INPUT_CHARS"
   ]
  },
  {
   "cell_type": "markdown",
   "id": "605079eb-5c26-4ced-ab51-3e382d1f4744",
   "metadata": {},
   "source": [
    "그리고 다음은 출력에 가능한 전체 문자이다:"
   ]
  },
  {
   "cell_type": "code",
   "execution_count": 90,
   "id": "ea843422-cfa6-4741-8155-9f7303a66981",
   "metadata": {
    "scrolled": true
   },
   "outputs": [],
   "source": [
    "OUTPUT_CHARS = '0123456789-'"
   ]
  },
  {
   "cell_type": "markdown",
   "id": "0cde55d8-4fc8-432c-8e7c-9650c745a2b4",
   "metadata": {},
   "source": [
    "이전 연습에서처럼 문자열을 문자 ID 리스트로 바꾸는 함수를 작성한다:"
   ]
  },
  {
   "cell_type": "code",
   "execution_count": 91,
   "id": "8ab22854-8b68-4c23-8562-43aeb97eb705",
   "metadata": {
    "scrolled": true
   },
   "outputs": [],
   "source": [
    "def date_str_to_ids(date_str, chars=INPUT_CHARS):\n",
    "    return [chars.index(c) for c in date_str]"
   ]
  },
  {
   "cell_type": "code",
   "execution_count": 92,
   "id": "674f81d7-2abb-430b-a043-b9cd0f3539f0",
   "metadata": {
    "scrolled": true
   },
   "outputs": [
    {
     "data": {
      "text/plain": [
       "[12, 31, 32, 26, 27, 0, 0, 4, 5, 1, 0, 6, 8, 3, 8]"
      ]
     },
     "execution_count": 92,
     "metadata": {},
     "output_type": "execute_result"
    }
   ],
   "source": [
    "date_str_to_ids(x_example[0])"
   ]
  },
  {
   "cell_type": "code",
   "execution_count": 93,
   "id": "ba0bed75-1967-4d34-8c27-304d9ee761b6",
   "metadata": {
    "scrolled": true
   },
   "outputs": [
    {
     "data": {
      "text/plain": [
       "[4, 6, 1, 6, 10, 0, 4, 10, 2, 3]"
      ]
     },
     "execution_count": 93,
     "metadata": {},
     "output_type": "execute_result"
    }
   ],
   "source": [
    "date_str_to_ids(y_example[0], OUTPUT_CHARS)"
   ]
  },
  {
   "cell_type": "code",
   "execution_count": 94,
   "id": "e16ee2de-44ad-46c4-9fe3-2a7ca205b4eb",
   "metadata": {
    "scrolled": true,
    "tags": []
   },
   "outputs": [],
   "source": [
    "def prepare_date_strs(date_strs, chars=INPUT_CHARS):\n",
    "    X_ids = [date_str_to_ids(dt, chars) for dt in date_strs]\n",
    "    X = tf.ragged.constant(X_ids, ragged_rank=1)\n",
    "    return (X + 1).to_tensor()  # 패딩 토큰 ID로 0 사용\n",
    "\n",
    "\n",
    "def create_dataset(n_dates):\n",
    "    x, y = random_dates(n_dates)\n",
    "    return prepare_date_strs(x), prepare_date_strs(y, OUTPUT_CHARS)"
   ]
  },
  {
   "cell_type": "code",
   "execution_count": 95,
   "id": "330dcb25-ab8e-46cf-829a-96ae1cd7b496",
   "metadata": {
    "scrolled": true
   },
   "outputs": [],
   "source": [
    "X_train, Y_train = create_dataset(10000)\n",
    "X_valid, Y_valid = create_dataset(2000)\n",
    "X_test, Y_test = create_dataset(2000)"
   ]
  },
  {
   "cell_type": "code",
   "execution_count": 96,
   "id": "a131e425-e9f0-4941-a21e-6c7b5b961e22",
   "metadata": {
    "scrolled": true
   },
   "outputs": [
    {
     "data": {
      "text/plain": [
       "<tf.Tensor: shape=(10,), dtype=int32, numpy=array([ 9,  9,  5, 10, 11,  2,  2, 11,  1, 10])>"
      ]
     },
     "execution_count": 96,
     "metadata": {},
     "output_type": "execute_result"
    }
   ],
   "source": [
    "Y_train[0]"
   ]
  },
  {
   "cell_type": "markdown",
   "id": "0098da5d-4931-4d09-8f2f-d5322938ecc8",
   "metadata": {},
   "source": [
    "#### **첫 번째 버전: 기본적인 seq2seq 모델**"
   ]
  },
  {
   "cell_type": "markdown",
   "id": "c332ce3f-cea4-467b-b474-a135ca691ec2",
   "metadata": {
    "tags": []
   },
   "source": [
    "먼저 가장 간단한 모델을 시도한다: 입력 시퀀스가 먼저 (임베딩 층 뒤에 하나의 LSTM 층으로 구성된) 인코더를 통과하여 벡터로 출력된다. 그 다음 이 벡터가 (하나의 LSTM 층 뒤에 밀집 층으로 구성된) 디코더로 들어가 벡터의 시퀀스를 출력한다. 각 벡터는 가능한 모든 출력 문자에 대한 추정 확률이다.\n",
    "\n",
    "디코더는 시퀀스를 입력으로 기대하기 때문에 가능한 가장 긴 출력 시퀀스만큼 (인코더의 출력) 벡터를 반복한다."
   ]
  },
  {
   "cell_type": "code",
   "execution_count": 97,
   "id": "1d4ecaf1-5b8b-4139-a8e7-c466eed31961",
   "metadata": {
    "scrolled": true,
    "tags": []
   },
   "outputs": [
    {
     "name": "stdout",
     "output_type": "stream",
     "text": [
      "Epoch 1/9\n",
      "313/313 [==============================] - 10s 21ms/step - loss: 1.8077 - accuracy: 0.3531 - val_loss: 1.4086 - val_accuracy: 0.4726\n",
      "Epoch 2/9\n",
      "313/313 [==============================] - 6s 18ms/step - loss: 1.2583 - accuracy: 0.5415 - val_loss: 1.1177 - val_accuracy: 0.6010\n",
      "Epoch 3/9\n",
      "313/313 [==============================] - 6s 18ms/step - loss: 1.2446 - accuracy: 0.5698 - val_loss: 0.9996 - val_accuracy: 0.6533\n",
      "Epoch 4/9\n",
      "313/313 [==============================] - 5s 17ms/step - loss: 0.8528 - accuracy: 0.6902 - val_loss: 0.8060 - val_accuracy: 0.6931\n",
      "Epoch 5/9\n",
      "313/313 [==============================] - 6s 18ms/step - loss: 0.7162 - accuracy: 0.7330 - val_loss: 0.5760 - val_accuracy: 0.7793\n",
      "Epoch 6/9\n",
      "313/313 [==============================] - 5s 17ms/step - loss: 0.7281 - accuracy: 0.7409 - val_loss: 0.6660 - val_accuracy: 0.7729\n",
      "Epoch 7/9\n",
      "313/313 [==============================] - 5s 17ms/step - loss: 0.4715 - accuracy: 0.8358 - val_loss: 0.3659 - val_accuracy: 0.8752\n",
      "Epoch 8/9\n",
      "313/313 [==============================] - 6s 18ms/step - loss: 0.3554 - accuracy: 0.8840 - val_loss: 0.2496 - val_accuracy: 0.9195\n",
      "Epoch 9/9\n",
      "313/313 [==============================] - 5s 17ms/step - loss: 0.1921 - accuracy: 0.9470 - val_loss: 0.1540 - val_accuracy: 0.9588\n"
     ]
    }
   ],
   "source": [
    "embedding_size = 32\n",
    "max_output_length = Y_train.shape[1]\n",
    "encoder = keras.Sequential(\n",
    "    [keras.layers.Embedding(len(INPUT_CHARS) + 1, embedding_size, input_shape=[None]), keras.layers.LSTM(128)]\n",
    ")\n",
    "decoder = keras.Sequential(\n",
    "    [keras.layers.LSTM(128, return_sequences=True), keras.layers.Dense(len(OUTPUT_CHARS) + 1, 'softmax')]\n",
    ")\n",
    "model = keras.Sequential([encoder, keras.layers.RepeatVector(max_output_length), decoder])\n",
    "optimizer = keras.optimizers.legacy.Nadam()\n",
    "model.compile(optimizer, 'sparse_categorical_crossentropy', ['accuracy'])\n",
    "# history = model.fit(X_train, Y_train, epochs=20, validation_data=(X_valid, Y_valid))\n",
    "history = model.fit(X_train, Y_train, epochs=9, validation_data=(X_valid, Y_valid))"
   ]
  },
  {
   "cell_type": "markdown",
   "id": "773d37e9-a2cb-4bf9-8645-c04e9de7f3f2",
   "metadata": {},
   "source": [
    "100% 검증 정확도를 달성했다! 이 모델을 사용해 예측을 만든다. 문자 ID 시퀀스를 문자열로 바꾸는 함수를 작성한다:"
   ]
  },
  {
   "cell_type": "code",
   "execution_count": 98,
   "id": "7cff4585-d003-4abc-901f-52cc7cfc2d6f",
   "metadata": {
    "scrolled": true
   },
   "outputs": [],
   "source": [
    "def ids_to_date_strs(ids, chars=OUTPUT_CHARS):\n",
    "    return [''.join([('?' + chars)[index] for index in sequence]) for sequence in ids]"
   ]
  },
  {
   "cell_type": "markdown",
   "id": "6721bcb1-264e-44b4-9d3e-8fb036f5b4e5",
   "metadata": {},
   "source": [
    "이제 모델을 사용해 샘플 날짜를 변환한다."
   ]
  },
  {
   "cell_type": "code",
   "execution_count": 99,
   "id": "4c4089db-9a0e-4953-91e5-24934a5296fe",
   "metadata": {
    "scrolled": true
   },
   "outputs": [],
   "source": [
    "X_new = prepare_date_strs(['September 17, 2009', 'July 14, 1789'])"
   ]
  },
  {
   "cell_type": "code",
   "execution_count": 100,
   "id": "dd3c4890-bc80-4def-b751-a05f275c45be",
   "metadata": {
    "scrolled": true
   },
   "outputs": [
    {
     "name": "stdout",
     "output_type": "stream",
     "text": [
      "1/1 [==============================] - 1s 617ms/step\n",
      "2009-09-17\n",
      "1789-04-14\n"
     ]
    }
   ],
   "source": [
    "ids = np.argmax(model.predict(X_new), -1)\n",
    "for date_str in ids_to_date_strs(ids):\n",
    "    print(date_str)"
   ]
  },
  {
   "cell_type": "markdown",
   "id": "b0c6ea19-6ce6-4274-b778-e1737b2ef52b",
   "metadata": {},
   "source": [
    "완벽하다!"
   ]
  },
  {
   "cell_type": "markdown",
   "id": "35e1a4ed-e99f-4e05-9d45-2d680ccae88d",
   "metadata": {},
   "source": [
    "하지만 (가장 긴 날짜에 해당하는) 길이가 18인 입력 문자열에서만 모델이 훈련되었기 때문에 짧은 시퀀스에서는 잘 동작하지 않는다:"
   ]
  },
  {
   "cell_type": "code",
   "execution_count": 101,
   "id": "284135bf-ecc9-41a8-862e-095f99606801",
   "metadata": {
    "scrolled": true
   },
   "outputs": [],
   "source": [
    "X_new = prepare_date_strs(['May 02, 2020', 'July 14, 1789'])"
   ]
  },
  {
   "cell_type": "code",
   "execution_count": 102,
   "id": "0e8346de-b89b-442e-897f-879e63fccffa",
   "metadata": {
    "scrolled": true
   },
   "outputs": [
    {
     "name": "stdout",
     "output_type": "stream",
     "text": [
      "1/1 [==============================] - 1s 617ms/step\n",
      "2000-01-02\n",
      "1789-09-14\n"
     ]
    }
   ],
   "source": [
    "ids = np.argmax(model.predict(X_new), -1)\n",
    "for date_str in ids_to_date_strs(ids):\n",
    "    print(date_str)"
   ]
  },
  {
   "cell_type": "markdown",
   "id": "36e6c952-f9ff-45fa-afa7-6eeca99a49d1",
   "metadata": {},
   "source": [
    "패딩을 사용해 훈련할 때와 동일한 길이의 시퀀스를 전달한다. 이를 위해 헬퍼 함수를 작성한다:"
   ]
  },
  {
   "cell_type": "code",
   "execution_count": 103,
   "id": "1f33884c-f8f0-4777-a143-0e9d31da787c",
   "metadata": {
    "scrolled": true
   },
   "outputs": [],
   "source": [
    "max_input_length = X_train.shape[1]\n",
    "\n",
    "\n",
    "def prepare_date_strs_padded(date_strs):\n",
    "    X = prepare_date_strs(date_strs)\n",
    "    if X.shape[1] < max_input_length:\n",
    "        X = tf.pad(X, [[0, 0], [0, max_input_length - X.shape[1]]])\n",
    "    return X\n",
    "\n",
    "\n",
    "def convert_date_strs(date_strs):\n",
    "    X = prepare_date_strs_padded(date_strs)\n",
    "    ids = np.argmax(model.predict(X), -1)\n",
    "    return ids_to_date_strs(ids)"
   ]
  },
  {
   "cell_type": "code",
   "execution_count": 104,
   "id": "69924fd5-ea12-40f8-8813-427428f39fd2",
   "metadata": {
    "scrolled": true
   },
   "outputs": [
    {
     "name": "stdout",
     "output_type": "stream",
     "text": [
      "1/1 [==============================] - 0s 24ms/step\n"
     ]
    },
    {
     "data": {
      "text/plain": [
       "['2000-05-02', '1789-07-14']"
      ]
     },
     "execution_count": 104,
     "metadata": {},
     "output_type": "execute_result"
    }
   ],
   "source": [
    "convert_date_strs(['May 02, 2020', 'July 14, 1789'])"
   ]
  },
  {
   "cell_type": "markdown",
   "id": "25c8b962-62ec-4825-90eb-fc612d65351c",
   "metadata": {},
   "source": [
    "물론 더 쉽게 날짜 변환 도구를 만들 수 있다(예를 들면, 정규식이나 더 단순한 문자열 조작)."
   ]
  },
  {
   "cell_type": "markdown",
   "id": "186acc75-67fe-47ee-b905-acdb676cfea1",
   "metadata": {},
   "source": [
    "하지만 실제 시퀀스-투-시퀀스 문제는 더 어렵다. 완벽함을 추구하기 위해 더 강력한 모델을 만들어 본다."
   ]
  },
  {
   "cell_type": "markdown",
   "id": "10b32521-46d7-4f22-a211-d4faba9455b6",
   "metadata": {},
   "source": [
    "#### **두 번째 버전: 디코더에서 쉬프트된 타깃 주입하기(티처 포싱(teacher forcing))**"
   ]
  },
  {
   "cell_type": "markdown",
   "id": "1da7570d-4aac-4658-9858-5baf1a120a51",
   "metadata": {},
   "source": [
    "디코더에 인코더 출력 벡터를 단순히 반복한 것을 주입하는 대신 한 타임 스텝 오른쪽으로 이동된 타깃 시퀀스를 주입할 수 있다. 이렇게 하면 각 타임 스텝에서 디코더는 이전 타깃 문자가 무엇인지 알게 된다. 이는 더 복잡한 시퀀스-투-시퀀스 문제를 다루는데 도움이 된다.\n",
    "\n",
    "각 타깃 시퀀스의 첫 번째 출력 문자는 이전 문자가 없기 때문에 시퀀스 시작(start-of-sequence, sos)을 나타내는 새로운 토큰이 필요하다.\n",
    "\n",
    "추론에서는 타깃을 알지 못하므로 디코더에게 무엇을 주입해야 할까? sos 토큰을 시작해서 한 번에 하나의 문자를 예측하고 디코더에게 지금까지 예측한 모든 문자를 주입한다(나중에 이 노트북에서 더 자세히 알아 본다).\n",
    "\n",
    "하지만 디코더의 LSTM이 스텝마다 이전 타깃을 입력으로 기대한다면 인코더의 벡터 출력을 어떻게 전달할까? 한가지 방법은 출력 벡터를 무시하는 것이다. 그리고 대신 인코더의 LSTM 상태를 디코더의 LSTM의 초기 상태로 사용한다(이렇게 하려면 인코더의 LSTM과 디코더의 LSTM 유닛 개수가 같아야 한다).\n",
    "\n",
    "그럼 (훈련, 검증, 테스트를 위한) 디코더의 입력을 만든다. sos 토큰은 가능한 출력 문자의 마지막 ID + 1으로 나타낸다."
   ]
  },
  {
   "cell_type": "code",
   "execution_count": 105,
   "id": "35a8e2d3-c6ae-4f29-b134-854ae819041d",
   "metadata": {
    "scrolled": true
   },
   "outputs": [],
   "source": [
    "sos_id = len(OUTPUT_CHARS) + 1\n",
    "\n",
    "\n",
    "def shifted_output_sequences(Y):\n",
    "    sos_tokens = tf.fill((len(Y), 1), sos_id)\n",
    "    return tf.concat([sos_tokens, Y[:, :-1]], 1)\n",
    "\n",
    "\n",
    "X_train_decoder = shifted_output_sequences(Y_train)\n",
    "X_valid_decoder = shifted_output_sequences(Y_valid)\n",
    "X_test_decoder = shifted_output_sequences(Y_test)"
   ]
  },
  {
   "cell_type": "markdown",
   "id": "081aba91-3318-448b-8d15-8337306bdd6f",
   "metadata": {},
   "source": [
    "디코더의 훈련 입력을 확인한다:"
   ]
  },
  {
   "cell_type": "code",
   "execution_count": 106,
   "id": "eb8e9ff7-c39c-414b-befb-24219c61809f",
   "metadata": {
    "scrolled": true
   },
   "outputs": [
    {
     "data": {
      "text/plain": [
       "<tf.Tensor: shape=(10000, 10), dtype=int32, numpy=\n",
       "array([[12,  9,  9, ...,  2, 11,  1],\n",
       "       [12,  2,  5, ...,  1, 11,  2],\n",
       "       [12,  6,  1, ...,  2, 11,  3],\n",
       "       ...,\n",
       "       [12,  2,  5, ...,  2, 11,  2],\n",
       "       [12,  8,  7, ...,  9, 11,  1],\n",
       "       [12,  7,  5, ...,  6, 11,  3]])>"
      ]
     },
     "execution_count": 106,
     "metadata": {},
     "output_type": "execute_result"
    }
   ],
   "source": [
    "X_train_decoder"
   ]
  },
  {
   "cell_type": "markdown",
   "id": "90a30b72-cc42-4335-bbaa-ba309aeb2ec6",
   "metadata": {
    "tags": []
   },
   "source": [
    "이제 모델을 만든다. 이제 더 이상 간단한 시퀀셜 모델이 아니므로 함수형 API를 사용한다:"
   ]
  },
  {
   "cell_type": "code",
   "execution_count": 107,
   "id": "1340973d-6121-4cdc-a2be-b0b84221e070",
   "metadata": {
    "scrolled": true,
    "tags": []
   },
   "outputs": [
    {
     "name": "stdout",
     "output_type": "stream",
     "text": [
      "Epoch 1/9\n",
      "313/313 [==============================] - 9s 20ms/step - loss: 1.6319 - accuracy: 0.3891 - val_loss: 1.3225 - val_accuracy: 0.4877\n",
      "Epoch 2/9\n",
      "313/313 [==============================] - 6s 19ms/step - loss: 1.1088 - accuracy: 0.5878 - val_loss: 0.9356 - val_accuracy: 0.6514\n",
      "Epoch 3/9\n",
      "313/313 [==============================] - 6s 19ms/step - loss: 0.5772 - accuracy: 0.8015 - val_loss: 0.3485 - val_accuracy: 0.8892\n",
      "Epoch 4/9\n",
      "313/313 [==============================] - 6s 20ms/step - loss: 0.2020 - accuracy: 0.9529 - val_loss: 0.1068 - val_accuracy: 0.9844\n",
      "Epoch 5/9\n",
      "313/313 [==============================] - 6s 19ms/step - loss: 0.0766 - accuracy: 0.9911 - val_loss: 0.0498 - val_accuracy: 0.9952\n",
      "Epoch 6/9\n",
      "313/313 [==============================] - 6s 20ms/step - loss: 0.0273 - accuracy: 0.9995 - val_loss: 0.0206 - val_accuracy: 0.9999\n",
      "Epoch 7/9\n",
      "313/313 [==============================] - 6s 19ms/step - loss: 0.0819 - accuracy: 0.9847 - val_loss: 0.0426 - val_accuracy: 0.9973\n",
      "Epoch 8/9\n",
      "313/313 [==============================] - 6s 18ms/step - loss: 0.0177 - accuracy: 0.9998 - val_loss: 0.0110 - val_accuracy: 0.9999\n",
      "Epoch 9/9\n",
      "313/313 [==============================] - 6s 18ms/step - loss: 0.0081 - accuracy: 1.0000 - val_loss: 0.0070 - val_accuracy: 1.0000\n"
     ]
    }
   ],
   "source": [
    "encoder_embedding_size = 32\n",
    "decoder_embedding_size = 32\n",
    "lstm_units = 128\n",
    "encoder_input = keras.Input([None], dtype=tf.int32)\n",
    "encoder_embedding = keras.layers.Embedding(len(INPUT_CHARS) + 1, encoder_embedding_size)(encoder_input)\n",
    "_, encoder_state_h, encoder_state_c = keras.layers.LSTM(lstm_units, return_state=True)(encoder_embedding)\n",
    "encoder_state = [encoder_state_h, encoder_state_c]\n",
    "decoder_input = keras.Input([None], dtype=tf.int32)\n",
    "decoder_embedding = keras.layers.Embedding(len(OUTPUT_CHARS) + 2, decoder_embedding_size)(decoder_input)\n",
    "decoder_lstm_output = keras.layers.LSTM(\n",
    "    lstm_units, return_sequences=True\n",
    ")(decoder_embedding, initial_state=encoder_state)\n",
    "decoder_output = keras.layers.Dense(len(OUTPUT_CHARS) + 1, 'softmax')(decoder_lstm_output)\n",
    "model = keras.Model(inputs=[encoder_input, decoder_input], outputs=[decoder_output])\n",
    "optimizer = keras.optimizers.legacy.Nadam()\n",
    "model.compile(optimizer, 'sparse_categorical_crossentropy', ['accuracy'])\n",
    "# history = model.fit(\n",
    "#     [X_train, X_train_decoder], Y_train, epochs=10, validation_data=([X_valid, X_valid_decoder], Y_valid)\n",
    "# )\n",
    "history = model.fit(\n",
    "    [X_train, X_train_decoder], Y_train, epochs=9, validation_data=([X_valid, X_valid_decoder], Y_valid)\n",
    ")"
   ]
  },
  {
   "cell_type": "markdown",
   "id": "1293850d-a22f-4200-b99e-2da272f37e41",
   "metadata": {},
   "source": [
    "이 모델도 100% 검증 정확도를 달성했지만 더 빠르다."
   ]
  },
  {
   "cell_type": "markdown",
   "id": "748c4a10-a50e-4b1f-b716-71d8b75d033a",
   "metadata": {},
   "source": [
    "이 모델을 사용해 몇 가지 예측을 수행한다. 이번에는 한 문자씩 예측한다."
   ]
  },
  {
   "cell_type": "code",
   "execution_count": 108,
   "id": "2ec610d2-cb9a-473a-9c86-d8e5977f0305",
   "metadata": {
    "scrolled": true
   },
   "outputs": [],
   "source": [
    "sos_id = len(OUTPUT_CHARS) + 1\n",
    "\n",
    "\n",
    "def predict_date_strs(date_strs):\n",
    "    X = prepare_date_strs_padded(date_strs)\n",
    "    Y_pred = tf.fill((len(X), 1), sos_id)\n",
    "    for index in range(max_output_length):\n",
    "        pad_size = max_output_length - Y_pred.shape[1]\n",
    "        X_decoder = tf.pad(Y_pred, [[0, 0], [0, pad_size]])\n",
    "        Y_probas_next = model.predict([X, X_decoder])[:, index:index + 1]\n",
    "        Y_pred_next = tf.math.argmax(Y_probas_next, -1, tf.int32)\n",
    "        Y_pred = tf.concat([Y_pred, Y_pred_next], 1)\n",
    "    return ids_to_date_strs(Y_pred[:, 1:])"
   ]
  },
  {
   "cell_type": "code",
   "execution_count": 109,
   "id": "bf50f954-eebe-4b6b-aba4-26ec39deefb3",
   "metadata": {
    "scrolled": true,
    "tags": []
   },
   "outputs": [
    {
     "name": "stdout",
     "output_type": "stream",
     "text": [
      "1/1 [==============================] - 1s 623ms/step\n",
      "1/1 [==============================] - 0s 23ms/step\n",
      "1/1 [==============================] - 0s 23ms/step\n",
      "1/1 [==============================] - 0s 23ms/step\n",
      "1/1 [==============================] - 0s 23ms/step\n",
      "1/1 [==============================] - 0s 23ms/step\n",
      "1/1 [==============================] - 0s 23ms/step\n",
      "1/1 [==============================] - 0s 23ms/step\n",
      "1/1 [==============================] - 0s 23ms/step\n",
      "1/1 [==============================] - 0s 22ms/step\n"
     ]
    },
    {
     "data": {
      "text/plain": [
       "['1789-07-14', '2020-05-01']"
      ]
     },
     "execution_count": 109,
     "metadata": {},
     "output_type": "execute_result"
    }
   ],
   "source": [
    "predict_date_strs(['July 14, 1789', 'May 01, 2020'])"
   ]
  },
  {
   "cell_type": "markdown",
   "id": "dca9cb8d-7caa-46f4-84f8-569f62e9553e",
   "metadata": {},
   "source": [
    "잘 동작한다!"
   ]
  },
  {
   "cell_type": "markdown",
   "id": "5e654641-1ac9-4315-91fd-dfb21f5a2dc1",
   "metadata": {
    "tags": []
   },
   "source": [
    "#### **세 번째 버전: TF-Addons의 seq2seq 구현 사용하기**"
   ]
  },
  {
   "cell_type": "markdown",
   "id": "28d10b61-06c1-4aed-9c42-9eb02078cc9a",
   "metadata": {},
   "source": [
    "정확히 동일한 모델을 만들어 본다. 하지만 TF-Addon의 seq2seq API를 사용한다. 아래 구현은 위에 있는 TFA 코드와 거의 비슷하다. 다만 모델 입력에 출력 시퀀스 길이를 지정하지 않는다(하지만 출력 시퀀스의 길이가 매우 다른 프로젝트에서 필요하다면 쉽게 이를 추가할 수 있다)."
   ]
  },
  {
   "cell_type": "code",
   "execution_count": 110,
   "id": "22042a1d-443c-45e9-ab1b-bed5ece9c746",
   "metadata": {
    "scrolled": true,
    "tags": []
   },
   "outputs": [
    {
     "name": "stdout",
     "output_type": "stream",
     "text": [
      "Epoch 1/3\n",
      "313/313 [==============================] - 21s 55ms/step - loss: 1.6824 - accuracy: 0.3735 - val_loss: 1.8979 - val_accuracy: 0.3933\n",
      "Epoch 2/3\n",
      "313/313 [==============================] - 17s 53ms/step - loss: 1.1322 - accuracy: 0.5785 - val_loss: 0.8035 - val_accuracy: 0.7085\n",
      "Epoch 3/3\n",
      "313/313 [==============================] - 17s 53ms/step - loss: 0.5844 - accuracy: 0.7919 - val_loss: 0.3941 - val_accuracy: 0.8745\n"
     ]
    }
   ],
   "source": [
    "encoder_embedding_size = 32\n",
    "decoder_embedding_size = 32\n",
    "units = 128\n",
    "encoder_inputs = keras.Input([None], dtype=np.int32)\n",
    "decoder_inputs = keras.Input([None], dtype=np.int32)\n",
    "sequence_lengths = keras.Input([], dtype=np.int32)\n",
    "encoder_embeddings = keras.layers.Embedding(len(INPUT_CHARS) + 1, encoder_embedding_size)(encoder_inputs)\n",
    "decoder_embedding_layer = keras.layers.Embedding(len(OUTPUT_CHARS) + 2, decoder_embedding_size)\n",
    "decoder_embeddings = decoder_embedding_layer(decoder_inputs)\n",
    "encoder = keras.layers.LSTM(units, return_state=True)\n",
    "encoder_outputs, state_h, state_c = encoder(encoder_embeddings)\n",
    "encoder_state = [state_h, state_c]\n",
    "sampler = tfa.seq2seq.TrainingSampler()\n",
    "decoder_cell = keras.layers.LSTMCell(units)\n",
    "output_layer = keras.layers.Dense(len(OUTPUT_CHARS) + 1)\n",
    "decoder = tfa.seq2seq.BasicDecoder(decoder_cell, sampler, output_layer)\n",
    "final_outputs, final_state, final_sequence_lengths = decoder(decoder_embeddings, initial_state=encoder_state)\n",
    "Y_proba = keras.layers.Activation('softmax')(final_outputs.rnn_output)\n",
    "model = keras.Model(inputs=[encoder_inputs, decoder_inputs], outputs=[Y_proba])\n",
    "optimizer = keras.optimizers.legacy.Nadam()\n",
    "model.compile(optimizer, 'sparse_categorical_crossentropy', ['accuracy'])\n",
    "# history = model.fit(\n",
    "#     [X_train, X_train_decoder], Y_train, epochs=15, validation_data=([X_valid, X_valid_decoder], Y_valid)\n",
    "# )\n",
    "history = model.fit(\n",
    "    [X_train, X_train_decoder], Y_train, epochs=3, validation_data=([X_valid, X_valid_decoder], Y_valid)\n",
    ")"
   ]
  },
  {
   "cell_type": "markdown",
   "id": "03f7ca94-12be-456e-9d32-f55a9f9f4108",
   "metadata": {},
   "source": [
    "여기에서도 100% 검증 정확도를 달성했다! 이 모델을 사용하기 위해 `predict_date_strs()` 함수를 다시 사용한다:"
   ]
  },
  {
   "cell_type": "code",
   "execution_count": 111,
   "id": "56d67f22-46a3-42a2-b41f-f725a3e25566",
   "metadata": {
    "scrolled": true,
    "tags": []
   },
   "outputs": [
    {
     "name": "stdout",
     "output_type": "stream",
     "text": [
      "1/1 [==============================] - 1s 599ms/step\n",
      "1/1 [==============================] - 0s 34ms/step\n",
      "1/1 [==============================] - 0s 36ms/step\n",
      "1/1 [==============================] - 0s 35ms/step\n",
      "1/1 [==============================] - 0s 33ms/step\n",
      "1/1 [==============================] - 0s 34ms/step\n",
      "1/1 [==============================] - 0s 34ms/step\n",
      "1/1 [==============================] - 0s 34ms/step\n",
      "1/1 [==============================] - 0s 34ms/step\n",
      "1/1 [==============================] - 0s 36ms/step\n"
     ]
    },
    {
     "data": {
      "text/plain": [
       "['8719-07-14', '2020-05-06']"
      ]
     },
     "execution_count": 111,
     "metadata": {},
     "output_type": "execute_result"
    }
   ],
   "source": [
    "predict_date_strs(['July 14, 1789', 'May 01, 2020'])"
   ]
  },
  {
   "cell_type": "markdown",
   "id": "3a7c8e6b-afe2-40d6-a869-52537e6435f9",
   "metadata": {
    "tags": []
   },
   "source": [
    "하지만 더 효율적으로 추론을 수행하는 방법이 있다. 지금까지 추론에서 새로운 문자마다 모델을 실행했다. 하지만`TrainingSampler` 대신에 `GreedyEmbeddingSampler`를 사용하는 새로운 디코더를 만들 수 있다.\n",
    "\n",
    "타임 스텝마다 `GreedyEmbeddingSampler`가 디코더의 출력에 argmax를 계산하고, 디코더 임베딩 층을 통해 토큰 ID를 얻는다. 그다음 다음 타임 스텝에 만들어진 임베딩을 디코더의 LSTM 셀에 주입한다. 이런 방법을 통해 디코더를 한 번만 실행하여 전체 예측을 얻는다."
   ]
  },
  {
   "cell_type": "code",
   "execution_count": 112,
   "id": "8de2ac64-3717-43ab-a8d0-fb096b54f506",
   "metadata": {
    "scrolled": true
   },
   "outputs": [],
   "source": [
    "inference_sampler = tfa.seq2seq.GreedyEmbeddingSampler(decoder_embedding_layer)\n",
    "inference_decoder = tfa.seq2seq.BasicDecoder(\n",
    "    decoder_cell, inference_sampler, output_layer, maximum_iterations=max_output_length\n",
    ")\n",
    "batch_size = tf.shape(encoder_inputs)[:1]\n",
    "start_tokens = tf.fill(batch_size, sos_id)\n",
    "final_outputs, final_state, final_sequence_lengths = inference_decoder(\n",
    "    start_tokens, initial_state=encoder_state, start_tokens=start_tokens, end_token=0\n",
    ")\n",
    "inference_model = keras.Model(inputs=[encoder_inputs], outputs=[final_outputs.sample_id])"
   ]
  },
  {
   "cell_type": "markdown",
   "id": "ed36da8b-b08d-4f77-b76d-22cc5bee176b",
   "metadata": {},
   "source": [
    "몇 개의 노트:\n",
    "\n",
    "* `GreedyEmbeddingSampler`는 `start_tokens`(디코더 시퀀스마다 sos ID를 담은 벡터)와 `end_token`(모델이 이 토큰을 출력할 때 디코더가 시퀀스 디코딩을 멈춥니다)이 필요하다.\n",
    "* `BasicDecoder`를 만들 때 `maximum_iterations`를 설정해야 한다. 그렇지 않으면 무한하게 반복할 수 있다(적어도 하나의 시퀀스에서 모델이 `end_token`을 출력하지 않는다면). 이렇게 되면 주피터 커널을 재시작해야 한다.\n",
    "* 모든 디코더 입력이 이전 타임 스텝의 출력을 기반으로 동적으로 생성되기 때문에 디코더 입력은 더 이상 필요하지 않다.\n",
    "* 모델의 출력은 `final_outputs.rnn_outputs`의 소프트맥스가 아니라 `final_outputs.sample_id`이다. 로짓 값을 얻고 싶다면 `final_outputs.sample_id`을 `final_outputs.rnn_outputs`으로 바꾼다."
   ]
  },
  {
   "cell_type": "markdown",
   "id": "3398bd76-7c8f-4a0a-8cb0-641414178102",
   "metadata": {},
   "source": [
    "이제 이 모델을 사용하는 간단한 함수를 작성하여 날짜 포맷 변환을 수행한다:"
   ]
  },
  {
   "cell_type": "code",
   "execution_count": 113,
   "id": "f531b861-1616-4f2a-9306-137da8d625cd",
   "metadata": {
    "scrolled": true,
    "tags": []
   },
   "outputs": [],
   "source": [
    "def fast_predict_date_strs(date_strs):\n",
    "    X = prepare_date_strs_padded(date_strs)\n",
    "    Y_pred = inference_model.predict(X)\n",
    "    return ids_to_date_strs(Y_pred)"
   ]
  },
  {
   "cell_type": "code",
   "execution_count": 114,
   "id": "51c6964c-8b84-4ba6-9bd8-319c2fba7702",
   "metadata": {
    "scrolled": true
   },
   "outputs": [
    {
     "name": "stdout",
     "output_type": "stream",
     "text": [
      "1/1 [==============================] - 1s 594ms/step\n"
     ]
    },
    {
     "data": {
      "text/plain": [
       "['8719-07-14', '2020-05-06']"
      ]
     },
     "execution_count": 114,
     "metadata": {},
     "output_type": "execute_result"
    }
   ],
   "source": [
    "fast_predict_date_strs(['July 14, 1789', 'May 01, 2020'])"
   ]
  },
  {
   "cell_type": "markdown",
   "id": "715fa570-d913-4798-8d75-7b73d64f7cd0",
   "metadata": {},
   "source": [
    "속도를 확인한다:"
   ]
  },
  {
   "cell_type": "code",
   "execution_count": 115,
   "id": "3c27310d-ce6f-48f1-b931-f8d42a15d90f",
   "metadata": {
    "scrolled": true,
    "tags": []
   },
   "outputs": [
    {
     "name": "stdout",
     "output_type": "stream",
     "text": [
      "1/1 [==============================] - 0s 33ms/step\n",
      "1/1 [==============================] - 0s 32ms/step\n",
      "1/1 [==============================] - 0s 34ms/step\n",
      "1/1 [==============================] - 0s 35ms/step\n",
      "1/1 [==============================] - 0s 35ms/step\n",
      "1/1 [==============================] - 0s 32ms/step\n",
      "1/1 [==============================] - 0s 33ms/step\n",
      "1/1 [==============================] - 0s 33ms/step\n",
      "1/1 [==============================] - 0s 34ms/step\n",
      "1/1 [==============================] - 0s 36ms/step\n",
      "1/1 [==============================] - 0s 33ms/step\n",
      "1/1 [==============================] - 0s 33ms/step\n",
      "1/1 [==============================] - 0s 33ms/step\n",
      "1/1 [==============================] - 0s 36ms/step\n",
      "1/1 [==============================] - 0s 33ms/step\n",
      "1/1 [==============================] - 0s 32ms/step\n",
      "1/1 [==============================] - 0s 35ms/step\n",
      "1/1 [==============================] - 0s 35ms/step\n",
      "1/1 [==============================] - 0s 35ms/step\n",
      "1/1 [==============================] - 0s 33ms/step\n",
      "1/1 [==============================] - 0s 35ms/step\n",
      "1/1 [==============================] - 0s 33ms/step\n",
      "1/1 [==============================] - 0s 32ms/step\n",
      "1/1 [==============================] - 0s 36ms/step\n",
      "1/1 [==============================] - 0s 34ms/step\n",
      "1/1 [==============================] - 0s 35ms/step\n",
      "1/1 [==============================] - 0s 33ms/step\n",
      "1/1 [==============================] - 0s 38ms/step\n",
      "1/1 [==============================] - 0s 36ms/step\n",
      "1/1 [==============================] - 0s 35ms/step\n",
      "1/1 [==============================] - 0s 36ms/step\n",
      "1/1 [==============================] - 0s 32ms/step\n",
      "1/1 [==============================] - 0s 33ms/step\n",
      "1/1 [==============================] - 0s 36ms/step\n",
      "1/1 [==============================] - 0s 36ms/step\n",
      "1/1 [==============================] - 0s 32ms/step\n",
      "1/1 [==============================] - 0s 36ms/step\n",
      "1/1 [==============================] - 0s 36ms/step\n",
      "1/1 [==============================] - 0s 33ms/step\n",
      "1/1 [==============================] - 0s 33ms/step\n",
      "1/1 [==============================] - 0s 34ms/step\n",
      "1/1 [==============================] - 0s 34ms/step\n",
      "1/1 [==============================] - 0s 37ms/step\n",
      "1/1 [==============================] - 0s 35ms/step\n",
      "1/1 [==============================] - 0s 32ms/step\n",
      "1/1 [==============================] - 0s 32ms/step\n",
      "1/1 [==============================] - 0s 33ms/step\n",
      "1/1 [==============================] - 0s 33ms/step\n",
      "1/1 [==============================] - 0s 32ms/step\n",
      "1/1 [==============================] - 0s 32ms/step\n",
      "1/1 [==============================] - 0s 32ms/step\n",
      "1/1 [==============================] - 0s 32ms/step\n",
      "1/1 [==============================] - 0s 33ms/step\n",
      "1/1 [==============================] - 0s 34ms/step\n",
      "1/1 [==============================] - 0s 34ms/step\n",
      "1/1 [==============================] - 0s 32ms/step\n",
      "1/1 [==============================] - 0s 36ms/step\n",
      "1/1 [==============================] - 0s 33ms/step\n",
      "1/1 [==============================] - 0s 32ms/step\n",
      "1/1 [==============================] - 0s 33ms/step\n",
      "1/1 [==============================] - 0s 35ms/step\n",
      "1/1 [==============================] - 0s 34ms/step\n",
      "1/1 [==============================] - 0s 34ms/step\n",
      "1/1 [==============================] - 0s 35ms/step\n",
      "1/1 [==============================] - 0s 34ms/step\n",
      "1/1 [==============================] - 0s 33ms/step\n",
      "1/1 [==============================] - 0s 31ms/step\n",
      "1/1 [==============================] - 0s 33ms/step\n",
      "1/1 [==============================] - 0s 36ms/step\n",
      "1/1 [==============================] - 0s 36ms/step\n",
      "1/1 [==============================] - 0s 32ms/step\n",
      "1/1 [==============================] - 0s 32ms/step\n",
      "1/1 [==============================] - 0s 33ms/step\n",
      "1/1 [==============================] - 0s 38ms/step\n",
      "1/1 [==============================] - 0s 32ms/step\n",
      "1/1 [==============================] - 0s 42ms/step\n",
      "1/1 [==============================] - 0s 34ms/step\n",
      "1/1 [==============================] - 0s 35ms/step\n",
      "1/1 [==============================] - 0s 36ms/step\n",
      "1/1 [==============================] - 0s 32ms/step\n",
      "678 ms ± 9.07 ms per loop (mean ± std. dev. of 7 runs, 1 loop each)\n"
     ]
    }
   ],
   "source": [
    "%timeit predict_date_strs(['July 14, 1789', 'May 01, 2020'])"
   ]
  },
  {
   "cell_type": "code",
   "execution_count": 116,
   "id": "55ffbc6e-571c-499b-abfa-a0738670d258",
   "metadata": {
    "scrolled": true
   },
   "outputs": [
    {
     "name": "stdout",
     "output_type": "stream",
     "text": [
      "1/1 [==============================] - 0s 33ms/step\n",
      "1/1 [==============================] - 0s 36ms/step\n",
      "1/1 [==============================] - 0s 36ms/step\n",
      "1/1 [==============================] - 0s 32ms/step\n",
      "1/1 [==============================] - 0s 34ms/step\n",
      "1/1 [==============================] - 0s 34ms/step\n",
      "1/1 [==============================] - 0s 33ms/step\n",
      "1/1 [==============================] - 0s 33ms/step\n",
      "1/1 [==============================] - 0s 33ms/step\n",
      "1/1 [==============================] - 0s 34ms/step\n",
      "1/1 [==============================] - 0s 33ms/step\n",
      "1/1 [==============================] - 0s 37ms/step\n",
      "1/1 [==============================] - 0s 35ms/step\n",
      "1/1 [==============================] - 0s 33ms/step\n",
      "1/1 [==============================] - 0s 32ms/step\n",
      "1/1 [==============================] - 0s 35ms/step\n",
      "1/1 [==============================] - 0s 34ms/step\n",
      "1/1 [==============================] - 0s 35ms/step\n",
      "1/1 [==============================] - 0s 35ms/step\n",
      "1/1 [==============================] - 0s 33ms/step\n",
      "1/1 [==============================] - 0s 34ms/step\n",
      "1/1 [==============================] - 0s 33ms/step\n",
      "1/1 [==============================] - 0s 33ms/step\n",
      "1/1 [==============================] - 0s 32ms/step\n",
      "1/1 [==============================] - 0s 34ms/step\n",
      "1/1 [==============================] - 0s 32ms/step\n",
      "1/1 [==============================] - 0s 32ms/step\n",
      "1/1 [==============================] - 0s 33ms/step\n",
      "1/1 [==============================] - 0s 36ms/step\n",
      "1/1 [==============================] - 0s 34ms/step\n",
      "1/1 [==============================] - 0s 34ms/step\n",
      "1/1 [==============================] - 0s 32ms/step\n",
      "1/1 [==============================] - 0s 33ms/step\n",
      "1/1 [==============================] - 0s 34ms/step\n",
      "1/1 [==============================] - 0s 34ms/step\n",
      "1/1 [==============================] - 0s 35ms/step\n",
      "1/1 [==============================] - 0s 33ms/step\n",
      "1/1 [==============================] - 0s 33ms/step\n",
      "1/1 [==============================] - 0s 34ms/step\n",
      "1/1 [==============================] - 0s 36ms/step\n",
      "1/1 [==============================] - 0s 32ms/step\n",
      "1/1 [==============================] - 0s 34ms/step\n",
      "1/1 [==============================] - 0s 34ms/step\n",
      "1/1 [==============================] - 0s 33ms/step\n",
      "1/1 [==============================] - 0s 34ms/step\n",
      "1/1 [==============================] - 0s 33ms/step\n",
      "1/1 [==============================] - 0s 32ms/step\n",
      "1/1 [==============================] - 0s 35ms/step\n",
      "1/1 [==============================] - 0s 36ms/step\n",
      "1/1 [==============================] - 0s 34ms/step\n",
      "1/1 [==============================] - 0s 33ms/step\n",
      "1/1 [==============================] - 0s 34ms/step\n",
      "1/1 [==============================] - 0s 35ms/step\n",
      "1/1 [==============================] - 0s 31ms/step\n",
      "1/1 [==============================] - 0s 33ms/step\n",
      "1/1 [==============================] - 0s 34ms/step\n",
      "1/1 [==============================] - 0s 38ms/step\n",
      "1/1 [==============================] - 0s 33ms/step\n",
      "1/1 [==============================] - 0s 33ms/step\n",
      "1/1 [==============================] - 0s 36ms/step\n",
      "1/1 [==============================] - 0s 33ms/step\n",
      "1/1 [==============================] - 0s 32ms/step\n",
      "1/1 [==============================] - 0s 33ms/step\n",
      "1/1 [==============================] - 0s 33ms/step\n",
      "1/1 [==============================] - 0s 33ms/step\n",
      "1/1 [==============================] - 0s 33ms/step\n",
      "1/1 [==============================] - 0s 32ms/step\n",
      "1/1 [==============================] - 0s 34ms/step\n",
      "1/1 [==============================] - 0s 34ms/step\n",
      "1/1 [==============================] - 0s 34ms/step\n",
      "1/1 [==============================] - 0s 35ms/step\n",
      "1/1 [==============================] - 0s 32ms/step\n",
      "1/1 [==============================] - 0s 34ms/step\n",
      "1/1 [==============================] - 0s 34ms/step\n",
      "1/1 [==============================] - 0s 32ms/step\n",
      "1/1 [==============================] - 0s 34ms/step\n",
      "1/1 [==============================] - 0s 35ms/step\n",
      "1/1 [==============================] - 0s 36ms/step\n",
      "1/1 [==============================] - 0s 36ms/step\n",
      "1/1 [==============================] - 0s 36ms/step\n",
      "1/1 [==============================] - 0s 33ms/step\n",
      "64.5 ms ± 535 µs per loop (mean ± std. dev. of 7 runs, 10 loops each)\n"
     ]
    }
   ],
   "source": [
    "%timeit fast_predict_date_strs(['July 14, 1789', 'May 01, 2020'])"
   ]
  },
  {
   "cell_type": "markdown",
   "id": "247d7471-6cd5-487b-a326-20cc90bc7001",
   "metadata": {},
   "source": [
    "10배 이상 빠르다! 긴 시퀀스를 다룰 때 속도는 더 차이가 난다."
   ]
  },
  {
   "cell_type": "markdown",
   "id": "07b6ec9e-e194-4e1c-832d-29cdfe77894f",
   "metadata": {
    "tags": []
   },
   "source": [
    "#### **네 번째 버전: 스케줄 샘플러를 사용하는 TF-Addons의 seq2seq 구현**"
   ]
  },
  {
   "cell_type": "markdown",
   "id": "82b84e6c-388d-4b91-8f1d-af981cf70d2f",
   "metadata": {},
   "source": [
    "**경고**: TF 버그 때문에 이 버전은 텐서플로 2.2 이상에서만 동작한다."
   ]
  },
  {
   "cell_type": "markdown",
   "id": "ca1abaa1-db7f-4891-9282-24515aa4d9e6",
   "metadata": {},
   "source": [
    "이전 모델을 훈련할 때 매 타임 스텝 _t_ 에서 타임 스텝 _t_-1의 타깃 토큰을 모델에게 전달한다. 하지만 추론에서는 모델이 타임 스텝마다 이전 타깃을 얻을 수 없다. 대신에 이전 예측을 사용한다. 따라서 이런 훈련과 추론 사이에 차이가 실망스러운 성능으로 이어질 수 있다. 이를 완화하기 위해 훈련하는 동안 타깃을 예측으로 점진적으로 바꿀 수 있다. 이렇게 하려면 `TrainingSampler`를 `ScheduledEmbeddingTrainingSampler`를 바꾸기만 하면 된다. 그리고 `sampling_probability`(디코더가 이전 타임 스텝의 타깃 대신에 이전 타임 스텝의 예측을 사용할 확률)를 점진적으로 증가시키기 위해 케라스 콜백을 사용한다."
   ]
  },
  {
   "cell_type": "code",
   "execution_count": 117,
   "id": "37f0ad23-bf35-447c-a645-d1fb2ec87ae7",
   "metadata": {
    "scrolled": true,
    "tags": []
   },
   "outputs": [
    {
     "name": "stdout",
     "output_type": "stream",
     "text": [
      "Epoch 1/2\n"
     ]
    },
    {
     "name": "stderr",
     "output_type": "stream",
     "text": [
      "C:\\Users\\kyun\\AppData\\Local\\Programs\\Python\\Python310\\lib\\site-packages\\tensorflow\\python\\framework\\indexed_slices.py:444: UserWarning: Converting sparse IndexedSlices(IndexedSlices(indices=Tensor(\"gradient_tape/model_5/basic_decoder_3/decoder/while/gradients/model_5/basic_decoder_3/decoder/while/cond_1_grad/Identity_4:0\", shape=(None,), dtype=int32), values=Tensor(\"gradient_tape/model_5/basic_decoder_3/decoder/while/gradients/model_5/basic_decoder_3/decoder/while/cond_1_grad/Identity_3:0\", shape=(None, 32), dtype=float32), dense_shape=Tensor(\"gradient_tape/model_5/basic_decoder_3/decoder/while/gradients/model_5/basic_decoder_3/decoder/while/cond_1_grad/Identity_5:0\", shape=(2,), dtype=int32))) to a dense Tensor of unknown shape. This may consume a large amount of memory.\n",
      "  warnings.warn(\n",
      "C:\\Users\\kyun\\AppData\\Local\\Programs\\Python\\Python310\\lib\\site-packages\\tensorflow\\python\\framework\\indexed_slices.py:444: UserWarning: Converting sparse IndexedSlices(IndexedSlices(indices=Tensor(\"gradient_tape/model_5/basic_decoder_3/decoder/while/gradients/model_5/basic_decoder_3/decoder/while/cond_grad/gradients/grad_ys_0_indices:0\", shape=(None,), dtype=int32), values=Tensor(\"gradient_tape/model_5/basic_decoder_3/decoder/while/gradients/model_5/basic_decoder_3/decoder/while/cond_grad/gradients/grad_ys_0_values:0\", shape=(None, 32), dtype=float32), dense_shape=Tensor(\"gradient_tape/model_5/basic_decoder_3/decoder/while/gradients/model_5/basic_decoder_3/decoder/while/cond_grad/gradients/grad_ys_0_shape:0\", shape=(2,), dtype=int32))) to a dense Tensor of unknown shape. This may consume a large amount of memory.\n",
      "  warnings.warn(\n",
      "C:\\Users\\kyun\\AppData\\Local\\Programs\\Python\\Python310\\lib\\site-packages\\tensorflow\\python\\framework\\indexed_slices.py:444: UserWarning: Converting sparse IndexedSlices(IndexedSlices(indices=Tensor(\"gradient_tape/model_5/basic_decoder_3/decoder/while/gradients/model_5/basic_decoder_3/decoder/while/cond_grad/Identity_1:0\", shape=(None,), dtype=int32), values=Tensor(\"gradient_tape/model_5/basic_decoder_3/decoder/while/gradients/model_5/basic_decoder_3/decoder/while/cond_grad/Identity:0\", shape=(None, 32), dtype=float32), dense_shape=Tensor(\"gradient_tape/model_5/basic_decoder_3/decoder/while/gradients/model_5/basic_decoder_3/decoder/while/cond_grad/Identity_2:0\", shape=(2,), dtype=int32))) to a dense Tensor of unknown shape. This may consume a large amount of memory.\n",
      "  warnings.warn(\n"
     ]
    },
    {
     "name": "stdout",
     "output_type": "stream",
     "text": [
      "313/313 [==============================] - 26s 70ms/step - loss: 1.6743 - accuracy: 0.3704 - val_loss: 1.4250 - val_accuracy: 0.4545\n",
      "Epoch 2/2\n",
      "313/313 [==============================] - 21s 68ms/step - loss: 1.2423 - accuracy: 0.5352 - val_loss: 0.9893 - val_accuracy: 0.6284\n"
     ]
    }
   ],
   "source": [
    "from tensorflow import keras\n",
    "import numpy as np\n",
    "import tensorflow_addons as tfa\n",
    "import tensorflow as tf\n",
    "\n",
    "# n_epochs = 20\n",
    "n_epochs = 2\n",
    "encoder_embedding_size = 32\n",
    "decoder_embedding_size = 32\n",
    "units = 128\n",
    "encoder_inputs = keras.Input([None], dtype=np.int32)\n",
    "decoder_inputs = keras.Input([None], dtype=np.int32)\n",
    "sequence_lengths = keras.Input([], dtype=np.int32)\n",
    "encoder_embeddings = keras.layers.Embedding(len(INPUT_CHARS) + 1, encoder_embedding_size)(encoder_inputs)\n",
    "decoder_embedding_layer = keras.layers.Embedding(len(OUTPUT_CHARS) + 2, decoder_embedding_size)\n",
    "decoder_embeddings = decoder_embedding_layer(decoder_inputs)\n",
    "encoder = keras.layers.LSTM(units, return_state=True)\n",
    "encoder_outputs, state_h, state_c = encoder(encoder_embeddings)\n",
    "encoder_state = [state_h, state_c]\n",
    "sampling_probability = tf.Variable(0.)\n",
    "sampler = tfa.seq2seq.ScheduledEmbeddingTrainingSampler(sampling_probability, decoder_embedding_layer)\n",
    "# sampler를 만든 다음 sampling_probability를 지정해야 한다.\n",
    "# (https://github.com/tensorflow/addons/pull/1714 참조)\n",
    "decoder_cell = keras.layers.LSTMCell(units)\n",
    "output_layer = keras.layers.Dense(len(OUTPUT_CHARS) + 1)\n",
    "decoder = tfa.seq2seq.BasicDecoder(decoder_cell, sampler, output_layer)\n",
    "final_outputs, final_state, final_sequence_lengths = decoder(decoder_embeddings, initial_state=encoder_state)\n",
    "Y_proba = keras.layers.Activation('softmax')(final_outputs.rnn_output)\n",
    "model = keras.Model(inputs=[encoder_inputs, decoder_inputs], outputs=[Y_proba])\n",
    "optimizer = keras.optimizers.legacy.Nadam()\n",
    "model.compile(optimizer, 'sparse_categorical_crossentropy', ['accuracy'])\n",
    "\n",
    "\n",
    "def update_sampling_probability(epoch, logs):\n",
    "    proba = min(1.0, epoch / (n_epochs - 10))\n",
    "    sampler.sampling_probability.assign(proba)\n",
    "\n",
    "\n",
    "sampling_probability_cb = keras.callbacks.LambdaCallback(update_sampling_probability)\n",
    "history = model.fit(\n",
    "    [X_train, X_train_decoder],\n",
    "    Y_train,\n",
    "    epochs=n_epochs,\n",
    "    callbacks=[sampling_probability_cb],\n",
    "    validation_data=([X_valid, X_valid_decoder], Y_valid)\n",
    ")"
   ]
  },
  {
   "cell_type": "markdown",
   "id": "4bcaa0bd-453d-4874-87d5-2a944286a5ec",
   "metadata": {},
   "source": [
    "검증 정확도가 100%는 아니지만 충분히 가깝다!"
   ]
  },
  {
   "cell_type": "markdown",
   "id": "5ddd3e58-cb37-44a1-9e55-6c1067edc2aa",
   "metadata": {},
   "source": [
    "추론에서도 `GreedyEmbeddingSampler`를 사용해 앞에서와 동일한 작업을 수행할 수 있다. 하지만 완성도를 높이기 위해 `SampleEmbeddingSampler`를 사용한다. 토큰 ID를 찾기 위해 모델 출력에 argmax를 적용하는 대신 로짓 출력에서 랜덤하게 토큰 ID를 샘플링하는 것만 다르고 거의 동일하다. 텍스트를 생성하는 작업에 유용하다. `softmax_temperature` 매개변수는 세익스피어와 같은 텍스트를 생성했을 때와 같은 목적이다(이 매개변수 값이 높을수록 더 랜덤한 텍스트가 생성된다)."
   ]
  },
  {
   "cell_type": "code",
   "execution_count": 118,
   "id": "8cc828b4-a093-4c74-b63f-60126984627f",
   "metadata": {
    "scrolled": true,
    "tags": []
   },
   "outputs": [],
   "source": [
    "softmax_temperature = tf.Variable(1.)\n",
    "inference_sampler = tfa.seq2seq.SampleEmbeddingSampler(decoder_embedding_layer, softmax_temperature)\n",
    "inference_decoder = tfa.seq2seq.BasicDecoder(\n",
    "    decoder_cell, inference_sampler, output_layer, maximum_iterations=max_output_length\n",
    ")\n",
    "batch_size = tf.shape(encoder_inputs)[:1]\n",
    "start_tokens = tf.fill(batch_size, sos_id)\n",
    "final_outputs, final_state, final_sequence_lengths = inference_decoder(\n",
    "    start_tokens, initial_state=encoder_state, start_tokens=start_tokens, end_token=0\n",
    ")\n",
    "inference_model = keras.models.Model(inputs=[encoder_inputs], outputs=[final_outputs.sample_id])"
   ]
  },
  {
   "cell_type": "code",
   "execution_count": 119,
   "id": "9d6c36f8-5f4c-4422-b1f5-5411636cd65c",
   "metadata": {
    "scrolled": true,
    "tags": []
   },
   "outputs": [],
   "source": [
    "def creative_predict_date_strs(date_strs, temperature=1.0):\n",
    "    softmax_temperature.assign(temperature)\n",
    "    X = prepare_date_strs_padded(date_strs)\n",
    "    Y_pred = inference_model.predict(X)\n",
    "    return ids_to_date_strs(Y_pred)"
   ]
  },
  {
   "cell_type": "code",
   "execution_count": 120,
   "id": "8969d4d3-d3de-47a8-91aa-893cca420c40",
   "metadata": {
    "scrolled": true
   },
   "outputs": [
    {
     "name": "stdout",
     "output_type": "stream",
     "text": [
      "1/1 [==============================] - 1s 631ms/step\n"
     ]
    },
    {
     "data": {
      "text/plain": [
       "['1809-05-08', '2000-06-21']"
      ]
     },
     "execution_count": 120,
     "metadata": {},
     "output_type": "execute_result"
    }
   ],
   "source": [
    "creative_predict_date_strs(['July 14, 1789', 'May 01, 2020'])"
   ]
  },
  {
   "cell_type": "markdown",
   "id": "57d507a1-f189-471a-b588-e51b1e881209",
   "metadata": {
    "tags": []
   },
   "source": [
    "기본 온도에서 날짜가 괜찮다. 온도를 조금 더 올린다:"
   ]
  },
  {
   "cell_type": "code",
   "execution_count": 121,
   "id": "dfcd228f-b764-4816-81cd-58f8421bce2f",
   "metadata": {
    "scrolled": true
   },
   "outputs": [
    {
     "name": "stdout",
     "output_type": "stream",
     "text": [
      "1/1 [==============================] - 0s 36ms/step\n"
     ]
    },
    {
     "data": {
      "text/plain": [
       "['1109698484', '117503-067']"
      ]
     },
     "execution_count": 121,
     "metadata": {},
     "output_type": "execute_result"
    }
   ],
   "source": [
    "creative_predict_date_strs(['July 14, 1789', 'May 01, 2020'], 5.)"
   ]
  },
  {
   "cell_type": "markdown",
   "id": "61a3e034-650a-4eb4-8943-e69d96cdd2b0",
   "metadata": {
    "tags": []
   },
   "source": [
    "날짜가 너무 랜덤하다. \"창의적인\" 날짜라고 부르자."
   ]
  },
  {
   "cell_type": "markdown",
   "id": "e66e8513-40ce-4756-b587-78eea0f784d1",
   "metadata": {
    "tags": []
   },
   "source": [
    "#### **다섯 번째 버전: TFA seq2seq, 케라스 서브클래싱 API, 어텐션 메커니즘 사용하기**"
   ]
  },
  {
   "cell_type": "markdown",
   "id": "d8e31997-e415-4e39-8217-0ae0375aab8e",
   "metadata": {
    "tags": []
   },
   "source": [
    "이 문제의 시퀀스는 꽤 짧지만 긴 시퀀스를 처리하려면 어텐션 메커니즘을 사용해야 한다. 직접 어텐션 메커니즘을 구현할 수 있지만 TF-Addons에 있는 구현을 사용하는 것이 더 간단하고 효율적이다. 케라스 서브클래싱 API를 사용해서 만들어 본다.\n",
    "\n",
    "**경고**: 텐서플로 버그([이슈](https://github.com/tensorflow/addons/issues/1153) 참조) 때문에 즉시 실행 모드(eager mode)에서 `get_initial_state()` 메서드가 실패한다. 따라서 지금은 `call()` 메서드에서 `tf.function()`을 자동으로 호출하는 (따라서 그래프 모드로 실행하는) 케라스 서브클래싱 API를 사용해야 한다."
   ]
  },
  {
   "cell_type": "markdown",
   "id": "3505e304-9efe-4fc8-ac65-ef4095b7c4f7",
   "metadata": {},
   "source": [
    "이 구현에서는 간단하게 만들기 위해 다시 `TrainingSampler`를 사용한다(하지만 `ScheduledEmbeddingTrainingSampler`를 사용해 쉽게 바꿀 수 있다). 추론에는 `GreedyEmbeddingSampler`를 사용한다:"
   ]
  },
  {
   "cell_type": "code",
   "execution_count": 122,
   "id": "2446db01-d165-4956-aa72-cf3e1bee6379",
   "metadata": {
    "scrolled": true
   },
   "outputs": [],
   "source": [
    "class DateTranslation(keras.Model):\n",
    "    def __init__(self, units=128, encoder_embedding_size=32, decoder_embedding_size=32, **kwargs):\n",
    "        super().__init__(**kwargs)\n",
    "        self.encoder_embedding = keras.layers.Embedding(len(INPUT_CHARS) + 1, encoder_embedding_size)\n",
    "        self.encoder = keras.layers.LSTM(units, return_sequences=True, return_state=True)\n",
    "        self.decoder_embedding = keras.layers.Embedding(len(OUTPUT_CHARS) + 2, decoder_embedding_size)\n",
    "        self.attention = tfa.seq2seq.LuongAttention(units)\n",
    "        decoder_inner_cell = keras.layers.LSTMCell(units)\n",
    "        self.decoder_cell = tfa.seq2seq.AttentionWrapper(decoder_inner_cell, self.attention)\n",
    "        output_layer = keras.layers.Dense(len(OUTPUT_CHARS) + 1)\n",
    "        self.decoder = tfa.seq2seq.BasicDecoder(self.decoder_cell, tfa.seq2seq.TrainingSampler(), output_layer)\n",
    "        self.inference_decoder = tfa.seq2seq.BasicDecoder(\n",
    "            self.decoder_cell,\n",
    "            tfa.seq2seq.GreedyEmbeddingSampler(self.decoder_embedding),\n",
    "            output_layer,\n",
    "            maximum_iterations=max_output_length\n",
    "        )\n",
    "\n",
    "    def call(self, inputs, training=None):\n",
    "        encoder_input, decoder_input = inputs\n",
    "        encoder_embeddings = self.encoder_embedding(encoder_input)\n",
    "        encoder_outputs, encoder_state_h, encoder_state_c = self.encoder(encoder_embeddings, training=training)\n",
    "        encoder_state = [encoder_state_h, encoder_state_c]\n",
    "        self.attention(encoder_outputs, setup_memory=True)\n",
    "        decoder_embeddings = self.decoder_embedding(decoder_input)\n",
    "        decoder_initial_state = self.decoder_cell.get_initial_state(decoder_embeddings)\n",
    "        decoder_initial_state = decoder_initial_state.clone(cell_state=encoder_state)\n",
    "        if training:\n",
    "            decoder_outputs, _, _ = self.decoder(\n",
    "                decoder_embeddings, initial_state=decoder_initial_state, training=training\n",
    "            )\n",
    "        else:\n",
    "            start_tokens = tf.zeros_like(encoder_input[:, 0]) + sos_id\n",
    "            decoder_outputs, _, _ = self.inference_decoder(\n",
    "                decoder_embeddings, initial_state=decoder_initial_state, start_tokens=start_tokens, end_token=0\n",
    "            )\n",
    "        return tf.nn.softmax(decoder_outputs.rnn_output)"
   ]
  },
  {
   "cell_type": "code",
   "execution_count": 123,
   "id": "4cfe8a5f-488b-42fe-a05b-786c02d552ad",
   "metadata": {
    "scrolled": true,
    "tags": []
   },
   "outputs": [
    {
     "name": "stdout",
     "output_type": "stream",
     "text": [
      "Epoch 1/2\n",
      "313/313 [==============================] - 29s 73ms/step - loss: 2.1424 - accuracy: 0.2317 - val_loss: 2.0291 - val_accuracy: 0.2801\n",
      "Epoch 2/2\n",
      "313/313 [==============================] - 22s 70ms/step - loss: 1.8208 - accuracy: 0.3416 - val_loss: 1.4395 - val_accuracy: 0.4433\n"
     ]
    }
   ],
   "source": [
    "model = DateTranslation()\n",
    "optimizer = keras.optimizers.legacy.Nadam()\n",
    "model.compile(optimizer, 'sparse_categorical_crossentropy', ['accuracy'])\n",
    "# history = model.fit(\n",
    "#     [X_train, X_train_decoder], Y_train, epochs=25, validation_data=([X_valid, X_valid_decoder], Y_valid)\n",
    "# )\n",
    "history = model.fit(\n",
    "    [X_train, X_train_decoder], Y_train, epochs=2, validation_data=([X_valid, X_valid_decoder], Y_valid)\n",
    ")"
   ]
  },
  {
   "cell_type": "markdown",
   "id": "268d6a5e-2339-4ae5-ad48-ff22bf110463",
   "metadata": {},
   "source": [
    "100% 검증 정확도는 아니지만 매우 가깝다. 수렴하는데 조금 오래 걸렸지만 반복마다 파라미터와 계산량이 많다. 그리고 스케줄 샘플러를 사용하지 않았다.\n",
    "\n",
    "이 모델을 사용하기 위해 또 다른 작은 함수를 만든다:"
   ]
  },
  {
   "cell_type": "code",
   "execution_count": 124,
   "id": "559644b7-1c15-48d7-9985-f808a216d7a0",
   "metadata": {
    "scrolled": true
   },
   "outputs": [],
   "source": [
    "def fast_predict_date_strs_v2(date_strs):\n",
    "    X = prepare_date_strs_padded(date_strs)\n",
    "    X_decoder = tf.zeros((len(X), max_output_length), tf.int32)\n",
    "    Y_probas = model.predict([X, X_decoder])\n",
    "    Y_pred = tf.math.argmax(Y_probas, -1)\n",
    "    return ids_to_date_strs(Y_pred)"
   ]
  },
  {
   "cell_type": "code",
   "execution_count": 125,
   "id": "6b9be360-6967-45fa-abe5-4f0322ed24b7",
   "metadata": {
    "scrolled": true
   },
   "outputs": [
    {
     "name": "stdout",
     "output_type": "stream",
     "text": [
      "1/1 [==============================] - 1s 766ms/step\n"
     ]
    },
    {
     "data": {
      "text/plain": [
       "['5599-07-07', '5555-05-05']"
      ]
     },
     "execution_count": 125,
     "metadata": {},
     "output_type": "execute_result"
    }
   ],
   "source": [
    "fast_predict_date_strs_v2(['July 14, 1789', 'May 01, 2020'])"
   ]
  },
  {
   "cell_type": "markdown",
   "id": "7832fb3c-991a-4edc-bb83-93a1ae4994ca",
   "metadata": {
    "tags": []
   },
   "source": [
    "TF-Addons에는 몇 가지 흥미로운 기능이 있다:\n",
    "\n",
    "* 추론에 `BasicDecoder` 대신 `BeamSearchDecoder`를 사용하면 가장 높은 확률의 문자를 출력하는 대신 디코더가 몇 개의 후보 중에서 가장 가능성 있는 시퀀스만 유지한다.\n",
    "* 입력이나 타깃 시퀀스의 길이가 매우 다르면 마스크를 설정하거나 `sequence_length`를 지정한다.\n",
    "* `ScheduledEmbeddingTrainingSampler` 보다 더 유연한 `ScheduledOutputTrainingSampler`을 사용하여 타임 스텝 _t_ 의 출력을 타임 스텝 _t_+1에 주입하는 방법을 결정한다. 기본적으로 argmax로 ID를 찾지 않고 임베딩 층에 통과시켜 출력을 셀에 바로 주입한다. 또는 `next_inputs_fn` 함수를 지정하여 셀 출력을 다음 스텝의 입력으로 변환할 수 있다."
   ]
  },
  {
   "cell_type": "markdown",
   "id": "fcf3119e-49fb-427d-996b-c850735ce8d8",
   "metadata": {},
   "source": [
    "### **3.**\n",
    "\n",
    "텐서플로의 [Neural Machine Translation with Attention(어텐션을 사용한 신경망 기계 번역)](https://homl.info/nmttuto) 튜토리얼을 살핀다."
   ]
  },
  {
   "cell_type": "code",
   "execution_count": null,
   "id": "c00ccabc-d98a-424c-8312-dc24fe79ca0a",
   "metadata": {},
   "outputs": [],
   "source": []
  }
 ],
 "metadata": {
  "kernelspec": {
   "display_name": "Python 3 (ipykernel)",
   "language": "python",
   "name": "python3"
  },
  "language_info": {
   "codemirror_mode": {
    "name": "ipython",
    "version": 3
   },
   "file_extension": ".py",
   "mimetype": "text/x-python",
   "name": "python",
   "nbconvert_exporter": "python",
   "pygments_lexer": "ipython3",
   "version": "3.10.8"
  },
  "toc-autonumbering": false,
  "toc-showmarkdowntxt": false
 },
 "nbformat": 4,
 "nbformat_minor": 5
}
